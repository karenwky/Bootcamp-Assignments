{
 "cells": [
  {
   "cell_type": "code",
   "execution_count": 1,
   "metadata": {},
   "outputs": [],
   "source": [
    "import numpy as np\n",
    "import pandas as pd\n",
    "import matplotlib.pyplot as plt\n",
    "import seaborn as sns"
   ]
  },
  {
   "cell_type": "code",
   "execution_count": 2,
   "metadata": {},
   "outputs": [
    {
     "data": {
      "text/html": [
       "<div>\n",
       "<style scoped>\n",
       "    .dataframe tbody tr th:only-of-type {\n",
       "        vertical-align: middle;\n",
       "    }\n",
       "\n",
       "    .dataframe tbody tr th {\n",
       "        vertical-align: top;\n",
       "    }\n",
       "\n",
       "    .dataframe thead th {\n",
       "        text-align: right;\n",
       "    }\n",
       "</style>\n",
       "<table border=\"1\" class=\"dataframe\">\n",
       "  <thead>\n",
       "    <tr style=\"text-align: right;\">\n",
       "      <th></th>\n",
       "      <th>user_country</th>\n",
       "      <th>location_selected</th>\n",
       "      <th>protocol</th>\n",
       "      <th>date</th>\n",
       "      <th>time_to_connect</th>\n",
       "      <th>download_speed</th>\n",
       "      <th>latency</th>\n",
       "    </tr>\n",
       "  </thead>\n",
       "  <tbody>\n",
       "    <tr>\n",
       "      <th>0</th>\n",
       "      <td>GB</td>\n",
       "      <td>UK - London</td>\n",
       "      <td>udp</td>\n",
       "      <td>2018-02-06</td>\n",
       "      <td>15.0</td>\n",
       "      <td>58942.0</td>\n",
       "      <td>88.0</td>\n",
       "    </tr>\n",
       "    <tr>\n",
       "      <th>1</th>\n",
       "      <td>FR</td>\n",
       "      <td>France - Paris - 1</td>\n",
       "      <td>udp</td>\n",
       "      <td>2018-02-06</td>\n",
       "      <td>61.0</td>\n",
       "      <td>11878.0</td>\n",
       "      <td>528.0</td>\n",
       "    </tr>\n",
       "    <tr>\n",
       "      <th>2</th>\n",
       "      <td>GB</td>\n",
       "      <td>UK - London</td>\n",
       "      <td>udp</td>\n",
       "      <td>2018-02-06</td>\n",
       "      <td>52.0</td>\n",
       "      <td>18254.0</td>\n",
       "      <td>322.0</td>\n",
       "    </tr>\n",
       "    <tr>\n",
       "      <th>3</th>\n",
       "      <td>GB</td>\n",
       "      <td>UK - London</td>\n",
       "      <td>udp</td>\n",
       "      <td>2018-02-06</td>\n",
       "      <td>21.0</td>\n",
       "      <td>93798.0</td>\n",
       "      <td>38.0</td>\n",
       "    </tr>\n",
       "    <tr>\n",
       "      <th>4</th>\n",
       "      <td>GB</td>\n",
       "      <td>UK - London</td>\n",
       "      <td>tcp</td>\n",
       "      <td>2018-02-06</td>\n",
       "      <td>100.0</td>\n",
       "      <td>12048.0</td>\n",
       "      <td>460.0</td>\n",
       "    </tr>\n",
       "  </tbody>\n",
       "</table>\n",
       "</div>"
      ],
      "text/plain": [
       "  user_country   location_selected protocol        date  time_to_connect  \\\n",
       "0           GB         UK - London      udp  2018-02-06             15.0   \n",
       "1           FR  France - Paris - 1      udp  2018-02-06             61.0   \n",
       "2           GB         UK - London      udp  2018-02-06             52.0   \n",
       "3           GB         UK - London      udp  2018-02-06             21.0   \n",
       "4           GB         UK - London      tcp  2018-02-06            100.0   \n",
       "\n",
       "   download_speed  latency  \n",
       "0         58942.0     88.0  \n",
       "1         11878.0    528.0  \n",
       "2         18254.0    322.0  \n",
       "3         93798.0     38.0  \n",
       "4         12048.0    460.0  "
      ]
     },
     "execution_count": 2,
     "metadata": {},
     "output_type": "execute_result"
    }
   ],
   "source": [
    "vpn = pd.read_csv('vpn.csv')\n",
    "vpn.head()"
   ]
  },
  {
   "cell_type": "code",
   "execution_count": 4,
   "metadata": {},
   "outputs": [
    {
     "name": "stdout",
     "output_type": "stream",
     "text": [
      "<class 'pandas.core.frame.DataFrame'>\n",
      "RangeIndex: 65534 entries, 0 to 65533\n",
      "Data columns (total 7 columns):\n",
      "user_country         65534 non-null object\n",
      "location_selected    65534 non-null object\n",
      "protocol             65512 non-null object\n",
      "date                 65534 non-null object\n",
      "time_to_connect      65435 non-null float64\n",
      "download_speed       65427 non-null float64\n",
      "latency              50741 non-null float64\n",
      "dtypes: float64(3), object(4)\n",
      "memory usage: 3.5+ MB\n"
     ]
    }
   ],
   "source": [
    "vpn.info()"
   ]
  },
  {
   "cell_type": "code",
   "execution_count": 5,
   "metadata": {},
   "outputs": [
    {
     "data": {
      "text/html": [
       "<div>\n",
       "<style scoped>\n",
       "    .dataframe tbody tr th:only-of-type {\n",
       "        vertical-align: middle;\n",
       "    }\n",
       "\n",
       "    .dataframe tbody tr th {\n",
       "        vertical-align: top;\n",
       "    }\n",
       "\n",
       "    .dataframe thead th {\n",
       "        text-align: right;\n",
       "    }\n",
       "</style>\n",
       "<table border=\"1\" class=\"dataframe\">\n",
       "  <thead>\n",
       "    <tr style=\"text-align: right;\">\n",
       "      <th></th>\n",
       "      <th>user_country</th>\n",
       "      <th>location_selected</th>\n",
       "      <th>protocol</th>\n",
       "      <th>date</th>\n",
       "      <th>time_to_connect</th>\n",
       "      <th>download_speed</th>\n",
       "      <th>latency</th>\n",
       "      <th>year</th>\n",
       "    </tr>\n",
       "  </thead>\n",
       "  <tbody>\n",
       "    <tr>\n",
       "      <th>0</th>\n",
       "      <td>GB</td>\n",
       "      <td>UK - London</td>\n",
       "      <td>udp</td>\n",
       "      <td>2018-02-06</td>\n",
       "      <td>15.0</td>\n",
       "      <td>58942.0</td>\n",
       "      <td>88.0</td>\n",
       "      <td>2018</td>\n",
       "    </tr>\n",
       "    <tr>\n",
       "      <th>1</th>\n",
       "      <td>FR</td>\n",
       "      <td>France - Paris - 1</td>\n",
       "      <td>udp</td>\n",
       "      <td>2018-02-06</td>\n",
       "      <td>61.0</td>\n",
       "      <td>11878.0</td>\n",
       "      <td>528.0</td>\n",
       "      <td>2018</td>\n",
       "    </tr>\n",
       "    <tr>\n",
       "      <th>2</th>\n",
       "      <td>GB</td>\n",
       "      <td>UK - London</td>\n",
       "      <td>udp</td>\n",
       "      <td>2018-02-06</td>\n",
       "      <td>52.0</td>\n",
       "      <td>18254.0</td>\n",
       "      <td>322.0</td>\n",
       "      <td>2018</td>\n",
       "    </tr>\n",
       "    <tr>\n",
       "      <th>3</th>\n",
       "      <td>GB</td>\n",
       "      <td>UK - London</td>\n",
       "      <td>udp</td>\n",
       "      <td>2018-02-06</td>\n",
       "      <td>21.0</td>\n",
       "      <td>93798.0</td>\n",
       "      <td>38.0</td>\n",
       "      <td>2018</td>\n",
       "    </tr>\n",
       "    <tr>\n",
       "      <th>4</th>\n",
       "      <td>GB</td>\n",
       "      <td>UK - London</td>\n",
       "      <td>tcp</td>\n",
       "      <td>2018-02-06</td>\n",
       "      <td>100.0</td>\n",
       "      <td>12048.0</td>\n",
       "      <td>460.0</td>\n",
       "      <td>2018</td>\n",
       "    </tr>\n",
       "  </tbody>\n",
       "</table>\n",
       "</div>"
      ],
      "text/plain": [
       "  user_country   location_selected protocol       date  time_to_connect  \\\n",
       "0           GB         UK - London      udp 2018-02-06             15.0   \n",
       "1           FR  France - Paris - 1      udp 2018-02-06             61.0   \n",
       "2           GB         UK - London      udp 2018-02-06             52.0   \n",
       "3           GB         UK - London      udp 2018-02-06             21.0   \n",
       "4           GB         UK - London      tcp 2018-02-06            100.0   \n",
       "\n",
       "   download_speed  latency  year  \n",
       "0         58942.0     88.0  2018  \n",
       "1         11878.0    528.0  2018  \n",
       "2         18254.0    322.0  2018  \n",
       "3         93798.0     38.0  2018  \n",
       "4         12048.0    460.0  2018  "
      ]
     },
     "execution_count": 5,
     "metadata": {},
     "output_type": "execute_result"
    }
   ],
   "source": [
    "vpn.date = pd.to_datetime(vpn.date)\n",
    "vpn['year'] = vpn.date.dt.year\n",
    "vpn.head()"
   ]
  },
  {
   "cell_type": "code",
   "execution_count": 6,
   "metadata": {},
   "outputs": [
    {
     "data": {
      "text/html": [
       "<div>\n",
       "<style scoped>\n",
       "    .dataframe tbody tr th:only-of-type {\n",
       "        vertical-align: middle;\n",
       "    }\n",
       "\n",
       "    .dataframe tbody tr th {\n",
       "        vertical-align: top;\n",
       "    }\n",
       "\n",
       "    .dataframe thead th {\n",
       "        text-align: right;\n",
       "    }\n",
       "</style>\n",
       "<table border=\"1\" class=\"dataframe\">\n",
       "  <thead>\n",
       "    <tr style=\"text-align: right;\">\n",
       "      <th></th>\n",
       "      <th>user_country</th>\n",
       "      <th>location_selected</th>\n",
       "      <th>protocol</th>\n",
       "      <th>date</th>\n",
       "      <th>time_to_connect</th>\n",
       "      <th>download_speed</th>\n",
       "      <th>latency</th>\n",
       "      <th>year</th>\n",
       "      <th>day</th>\n",
       "    </tr>\n",
       "  </thead>\n",
       "  <tbody>\n",
       "    <tr>\n",
       "      <th>0</th>\n",
       "      <td>GB</td>\n",
       "      <td>UK - London</td>\n",
       "      <td>udp</td>\n",
       "      <td>2018-02-06</td>\n",
       "      <td>15.0</td>\n",
       "      <td>58942.0</td>\n",
       "      <td>88.0</td>\n",
       "      <td>2018</td>\n",
       "      <td>6</td>\n",
       "    </tr>\n",
       "    <tr>\n",
       "      <th>1</th>\n",
       "      <td>FR</td>\n",
       "      <td>France - Paris - 1</td>\n",
       "      <td>udp</td>\n",
       "      <td>2018-02-06</td>\n",
       "      <td>61.0</td>\n",
       "      <td>11878.0</td>\n",
       "      <td>528.0</td>\n",
       "      <td>2018</td>\n",
       "      <td>6</td>\n",
       "    </tr>\n",
       "    <tr>\n",
       "      <th>2</th>\n",
       "      <td>GB</td>\n",
       "      <td>UK - London</td>\n",
       "      <td>udp</td>\n",
       "      <td>2018-02-06</td>\n",
       "      <td>52.0</td>\n",
       "      <td>18254.0</td>\n",
       "      <td>322.0</td>\n",
       "      <td>2018</td>\n",
       "      <td>6</td>\n",
       "    </tr>\n",
       "    <tr>\n",
       "      <th>3</th>\n",
       "      <td>GB</td>\n",
       "      <td>UK - London</td>\n",
       "      <td>udp</td>\n",
       "      <td>2018-02-06</td>\n",
       "      <td>21.0</td>\n",
       "      <td>93798.0</td>\n",
       "      <td>38.0</td>\n",
       "      <td>2018</td>\n",
       "      <td>6</td>\n",
       "    </tr>\n",
       "    <tr>\n",
       "      <th>4</th>\n",
       "      <td>GB</td>\n",
       "      <td>UK - London</td>\n",
       "      <td>tcp</td>\n",
       "      <td>2018-02-06</td>\n",
       "      <td>100.0</td>\n",
       "      <td>12048.0</td>\n",
       "      <td>460.0</td>\n",
       "      <td>2018</td>\n",
       "      <td>6</td>\n",
       "    </tr>\n",
       "  </tbody>\n",
       "</table>\n",
       "</div>"
      ],
      "text/plain": [
       "  user_country   location_selected protocol       date  time_to_connect  \\\n",
       "0           GB         UK - London      udp 2018-02-06             15.0   \n",
       "1           FR  France - Paris - 1      udp 2018-02-06             61.0   \n",
       "2           GB         UK - London      udp 2018-02-06             52.0   \n",
       "3           GB         UK - London      udp 2018-02-06             21.0   \n",
       "4           GB         UK - London      tcp 2018-02-06            100.0   \n",
       "\n",
       "   download_speed  latency  year  day  \n",
       "0         58942.0     88.0  2018    6  \n",
       "1         11878.0    528.0  2018    6  \n",
       "2         18254.0    322.0  2018    6  \n",
       "3         93798.0     38.0  2018    6  \n",
       "4         12048.0    460.0  2018    6  "
      ]
     },
     "execution_count": 6,
     "metadata": {},
     "output_type": "execute_result"
    }
   ],
   "source": [
    "vpn['day'] = vpn.date.dt.day\n",
    "vpn.head()"
   ]
  },
  {
   "cell_type": "code",
   "execution_count": 11,
   "metadata": {},
   "outputs": [
    {
     "data": {
      "text/html": [
       "<div>\n",
       "<style scoped>\n",
       "    .dataframe tbody tr th:only-of-type {\n",
       "        vertical-align: middle;\n",
       "    }\n",
       "\n",
       "    .dataframe tbody tr th {\n",
       "        vertical-align: top;\n",
       "    }\n",
       "\n",
       "    .dataframe thead th {\n",
       "        text-align: right;\n",
       "    }\n",
       "</style>\n",
       "<table border=\"1\" class=\"dataframe\">\n",
       "  <thead>\n",
       "    <tr style=\"text-align: right;\">\n",
       "      <th></th>\n",
       "      <th>time_to_connect</th>\n",
       "      <th>download_speed</th>\n",
       "      <th>latency</th>\n",
       "      <th>year</th>\n",
       "      <th>day</th>\n",
       "    </tr>\n",
       "  </thead>\n",
       "  <tbody>\n",
       "    <tr>\n",
       "      <th>0</th>\n",
       "      <td>15.0</td>\n",
       "      <td>58942.0</td>\n",
       "      <td>88.0</td>\n",
       "      <td>2018</td>\n",
       "      <td>6</td>\n",
       "    </tr>\n",
       "    <tr>\n",
       "      <th>1</th>\n",
       "      <td>61.0</td>\n",
       "      <td>11878.0</td>\n",
       "      <td>528.0</td>\n",
       "      <td>2018</td>\n",
       "      <td>6</td>\n",
       "    </tr>\n",
       "    <tr>\n",
       "      <th>2</th>\n",
       "      <td>52.0</td>\n",
       "      <td>18254.0</td>\n",
       "      <td>322.0</td>\n",
       "      <td>2018</td>\n",
       "      <td>6</td>\n",
       "    </tr>\n",
       "    <tr>\n",
       "      <th>3</th>\n",
       "      <td>21.0</td>\n",
       "      <td>93798.0</td>\n",
       "      <td>38.0</td>\n",
       "      <td>2018</td>\n",
       "      <td>6</td>\n",
       "    </tr>\n",
       "    <tr>\n",
       "      <th>4</th>\n",
       "      <td>100.0</td>\n",
       "      <td>12048.0</td>\n",
       "      <td>460.0</td>\n",
       "      <td>2018</td>\n",
       "      <td>6</td>\n",
       "    </tr>\n",
       "  </tbody>\n",
       "</table>\n",
       "</div>"
      ],
      "text/plain": [
       "   time_to_connect  download_speed  latency  year  day\n",
       "0             15.0         58942.0     88.0  2018    6\n",
       "1             61.0         11878.0    528.0  2018    6\n",
       "2             52.0         18254.0    322.0  2018    6\n",
       "3             21.0         93798.0     38.0  2018    6\n",
       "4            100.0         12048.0    460.0  2018    6"
      ]
     },
     "execution_count": 11,
     "metadata": {},
     "output_type": "execute_result"
    }
   ],
   "source": [
    "# new df with only numeric data\n",
    "table = vpn.drop(columns=vpn.columns[:4])\n",
    "table.head()"
   ]
  },
  {
   "cell_type": "code",
   "execution_count": 98,
   "metadata": {},
   "outputs": [
    {
     "data": {
      "text/plain": [
       "array([[<matplotlib.axes._subplots.AxesSubplot object at 0x1a21ed3828>,\n",
       "        <matplotlib.axes._subplots.AxesSubplot object at 0x1a2576be10>],\n",
       "       [<matplotlib.axes._subplots.AxesSubplot object at 0x1a1faa0b38>,\n",
       "        <matplotlib.axes._subplots.AxesSubplot object at 0x1a21338da0>],\n",
       "       [<matplotlib.axes._subplots.AxesSubplot object at 0x1a25256048>,\n",
       "        <matplotlib.axes._subplots.AxesSubplot object at 0x1a253242b0>]],\n",
       "      dtype=object)"
      ]
     },
     "execution_count": 98,
     "metadata": {},
     "output_type": "execute_result"
    },
    {
     "data": {
      "image/png": "[encoded data removed]",
      "text/plain": [
       "<Figure size 720x504 with 6 Axes>"
      ]
     },
     "metadata": {
      "needs_background": "light"
     },
     "output_type": "display_data"
    }
   ],
   "source": [
    "table.hist(figsize=(10,7))"
   ]
  },
  {
   "cell_type": "code",
   "execution_count": 13,
   "metadata": {},
   "outputs": [
    {
     "data": {
      "text/plain": [
       "time_to_connect     True\n",
       "download_speed      True\n",
       "latency             True\n",
       "year               False\n",
       "day                False\n",
       "dtype: bool"
      ]
     },
     "execution_count": 13,
     "metadata": {},
     "output_type": "execute_result"
    }
   ],
   "source": [
    "table.isna().any()"
   ]
  },
  {
   "cell_type": "code",
   "execution_count": 20,
   "metadata": {},
   "outputs": [
    {
     "data": {
      "text/plain": [
       "False    65435\n",
       "True        99\n",
       "Name: time_to_connect, dtype: int64"
      ]
     },
     "execution_count": 20,
     "metadata": {},
     "output_type": "execute_result"
    }
   ],
   "source": [
    "table['time_to_connect'].isna().value_counts()"
   ]
  },
  {
   "cell_type": "code",
   "execution_count": 21,
   "metadata": {},
   "outputs": [
    {
     "data": {
      "text/plain": [
       "False    65427\n",
       "True       107\n",
       "Name: download_speed, dtype: int64"
      ]
     },
     "execution_count": 21,
     "metadata": {},
     "output_type": "execute_result"
    }
   ],
   "source": [
    "table['download_speed'].isna().value_counts()"
   ]
  },
  {
   "cell_type": "markdown",
   "metadata": {},
   "source": [
    "for time-to-connect and dl speed, just a few nan columns, can be dropped. "
   ]
  },
  {
   "cell_type": "code",
   "execution_count": 22,
   "metadata": {},
   "outputs": [
    {
     "data": {
      "text/plain": [
       "False    50741\n",
       "True     14793\n",
       "Name: latency, dtype: int64"
      ]
     },
     "execution_count": 22,
     "metadata": {},
     "output_type": "execute_result"
    }
   ],
   "source": [
    "table['latency'].isna().value_counts()"
   ]
  },
  {
   "cell_type": "code",
   "execution_count": 99,
   "metadata": {},
   "outputs": [
    {
     "data": {
      "text/plain": [
       "time_to_connect       99\n",
       "download_speed       107\n",
       "latency            14793\n",
       "year                   0\n",
       "day                    0\n",
       "dtype: int64"
      ]
     },
     "execution_count": 99,
     "metadata": {},
     "output_type": "execute_result"
    }
   ],
   "source": [
    "table.isna().sum()"
   ]
  },
  {
   "cell_type": "code",
   "execution_count": 101,
   "metadata": {},
   "outputs": [
    {
     "data": {
      "text/plain": [
       "<matplotlib.axes._subplots.AxesSubplot at 0x1a251a0ac8>"
      ]
     },
     "execution_count": 101,
     "metadata": {},
     "output_type": "execute_result"
    },
    {
     "data": {
      "image/png": "[encoded data removed]",
      "text/plain": [
       "<Figure size 432x288 with 2 Axes>"
      ]
     },
     "metadata": {
      "needs_background": "light"
     },
     "output_type": "display_data"
    }
   ],
   "source": [
    "missing_values = table.isna()\n",
    "sns.heatmap(data = missing_values, cmap='viridis')\n",
    "# y-axis: row index"
   ]
  },
  {
   "cell_type": "code",
   "execution_count": 25,
   "metadata": {},
   "outputs": [
    {
     "name": "stdout",
     "output_type": "stream",
     "text": [
      "(65534, 9)\n",
      "(50733, 5)\n"
     ]
    }
   ],
   "source": [
    "print(vpn.shape)\n",
    "dropna = table.dropna(subset=['time_to_connect', 'download_speed', 'latency'])\n",
    "print(dropna.shape)"
   ]
  },
  {
   "cell_type": "code",
   "execution_count": 26,
   "metadata": {},
   "outputs": [],
   "source": [
    "from sklearn.preprocessing import Imputer\n",
    "imputer = Imputer(strategy = 'median')"
   ]
  },
  {
   "cell_type": "code",
   "execution_count": 27,
   "metadata": {},
   "outputs": [
    {
     "data": {
      "text/plain": [
       "Imputer(axis=0, copy=True, missing_values='NaN', strategy='median', verbose=0)"
      ]
     },
     "execution_count": 27,
     "metadata": {},
     "output_type": "execute_result"
    }
   ],
   "source": [
    "imputer.fit(table)"
   ]
  },
  {
   "cell_type": "code",
   "execution_count": 109,
   "metadata": {},
   "outputs": [
    {
     "data": {
      "text/plain": [
       "array([4.0000e+01, 3.3162e+04, 1.0200e+02, 2.0180e+03, 1.0000e+01])"
      ]
     },
     "execution_count": 109,
     "metadata": {},
     "output_type": "execute_result"
    }
   ],
   "source": [
    "imputer.statistics_"
   ]
  },
  {
   "cell_type": "code",
   "execution_count": 111,
   "metadata": {},
   "outputs": [
    {
     "data": {
      "text/plain": [
       "array([[1.50000000e+01, 5.89420000e+04, 8.80000000e+01, 2.01800000e+03,\n",
       "        6.00000000e+00],\n",
       "       [6.10000000e+01, 1.18780000e+04, 5.28000000e+02, 2.01800000e+03,\n",
       "        6.00000000e+00],\n",
       "       [5.20000000e+01, 1.82540000e+04, 3.22000000e+02, 2.01800000e+03,\n",
       "        6.00000000e+00],\n",
       "       ...,\n",
       "       [8.10000000e+01, 5.28304143e+04, 8.50000000e+01, 2.01800000e+03,\n",
       "        1.90000000e+01],\n",
       "       [3.00000000e+02, 2.63163060e+03, 3.81300000e+03, 2.01800000e+03,\n",
       "        1.90000000e+01],\n",
       "       [8.40000000e+01, 1.84070807e+04, 1.02000000e+02, 2.01800000e+03,\n",
       "        1.90000000e+01]])"
      ]
     },
     "execution_count": 111,
     "metadata": {},
     "output_type": "execute_result"
    }
   ],
   "source": [
    "imputer.fit_transform(table)\n",
    "# same as variable X"
   ]
  },
  {
   "cell_type": "code",
   "execution_count": 30,
   "metadata": {},
   "outputs": [
    {
     "data": {
      "text/html": [
       "<div>\n",
       "<style scoped>\n",
       "    .dataframe tbody tr th:only-of-type {\n",
       "        vertical-align: middle;\n",
       "    }\n",
       "\n",
       "    .dataframe tbody tr th {\n",
       "        vertical-align: top;\n",
       "    }\n",
       "\n",
       "    .dataframe thead th {\n",
       "        text-align: right;\n",
       "    }\n",
       "</style>\n",
       "<table border=\"1\" class=\"dataframe\">\n",
       "  <thead>\n",
       "    <tr style=\"text-align: right;\">\n",
       "      <th></th>\n",
       "      <th>time_to_connect</th>\n",
       "      <th>download_speed</th>\n",
       "      <th>latency</th>\n",
       "      <th>year</th>\n",
       "      <th>day</th>\n",
       "    </tr>\n",
       "  </thead>\n",
       "  <tbody>\n",
       "    <tr>\n",
       "      <th>0</th>\n",
       "      <td>15.0</td>\n",
       "      <td>58942.0</td>\n",
       "      <td>88.0</td>\n",
       "      <td>2018.0</td>\n",
       "      <td>6.0</td>\n",
       "    </tr>\n",
       "    <tr>\n",
       "      <th>1</th>\n",
       "      <td>61.0</td>\n",
       "      <td>11878.0</td>\n",
       "      <td>528.0</td>\n",
       "      <td>2018.0</td>\n",
       "      <td>6.0</td>\n",
       "    </tr>\n",
       "    <tr>\n",
       "      <th>2</th>\n",
       "      <td>52.0</td>\n",
       "      <td>18254.0</td>\n",
       "      <td>322.0</td>\n",
       "      <td>2018.0</td>\n",
       "      <td>6.0</td>\n",
       "    </tr>\n",
       "    <tr>\n",
       "      <th>3</th>\n",
       "      <td>21.0</td>\n",
       "      <td>93798.0</td>\n",
       "      <td>38.0</td>\n",
       "      <td>2018.0</td>\n",
       "      <td>6.0</td>\n",
       "    </tr>\n",
       "    <tr>\n",
       "      <th>4</th>\n",
       "      <td>100.0</td>\n",
       "      <td>12048.0</td>\n",
       "      <td>460.0</td>\n",
       "      <td>2018.0</td>\n",
       "      <td>6.0</td>\n",
       "    </tr>\n",
       "  </tbody>\n",
       "</table>\n",
       "</div>"
      ],
      "text/plain": [
       "   time_to_connect  download_speed  latency    year  day\n",
       "0             15.0         58942.0     88.0  2018.0  6.0\n",
       "1             61.0         11878.0    528.0  2018.0  6.0\n",
       "2             52.0         18254.0    322.0  2018.0  6.0\n",
       "3             21.0         93798.0     38.0  2018.0  6.0\n",
       "4            100.0         12048.0    460.0  2018.0  6.0"
      ]
     },
     "execution_count": 30,
     "metadata": {},
     "output_type": "execute_result"
    }
   ],
   "source": [
    "X = imputer.transform(table)\n",
    "table_tr = pd.DataFrame(X, columns=table.columns)\n",
    "table_tr.head()"
   ]
  },
  {
   "cell_type": "code",
   "execution_count": 92,
   "metadata": {},
   "outputs": [
    {
     "data": {
      "text/plain": [
       "time_to_connect    False\n",
       "download_speed     False\n",
       "latency            False\n",
       "year               False\n",
       "day                False\n",
       "dtype: bool"
      ]
     },
     "execution_count": 92,
     "metadata": {},
     "output_type": "execute_result"
    }
   ],
   "source": [
    "table_tr.isnull().any()"
   ]
  },
  {
   "cell_type": "code",
   "execution_count": 103,
   "metadata": {},
   "outputs": [
    {
     "data": {
      "text/plain": [
       "<matplotlib.axes._subplots.AxesSubplot at 0x1a1fba1748>"
      ]
     },
     "execution_count": 103,
     "metadata": {},
     "output_type": "execute_result"
    },
    {
     "data": {
      "image/png": "[encoded data removed]",
      "text/plain": [
       "<Figure size 432x288 with 2 Axes>"
      ]
     },
     "metadata": {
      "needs_background": "light"
     },
     "output_type": "display_data"
    }
   ],
   "source": [
    "missing_values = table_tr.isna()\n",
    "sns.heatmap(data = missing_values, cmap='viridis')\n",
    "#missing values are all filled"
   ]
  },
  {
   "cell_type": "code",
   "execution_count": 39,
   "metadata": {},
   "outputs": [
    {
     "data": {
      "text/html": [
       "<div>\n",
       "<style scoped>\n",
       "    .dataframe tbody tr th:only-of-type {\n",
       "        vertical-align: middle;\n",
       "    }\n",
       "\n",
       "    .dataframe tbody tr th {\n",
       "        vertical-align: top;\n",
       "    }\n",
       "\n",
       "    .dataframe thead th {\n",
       "        text-align: right;\n",
       "    }\n",
       "</style>\n",
       "<table border=\"1\" class=\"dataframe\">\n",
       "  <thead>\n",
       "    <tr style=\"text-align: right;\">\n",
       "      <th></th>\n",
       "      <th>time_to_connect</th>\n",
       "      <th>download_speed</th>\n",
       "      <th>latency</th>\n",
       "      <th>year</th>\n",
       "      <th>day</th>\n",
       "    </tr>\n",
       "  </thead>\n",
       "  <tbody>\n",
       "    <tr>\n",
       "      <th>908</th>\n",
       "      <td>NaN</td>\n",
       "      <td>NaN</td>\n",
       "      <td>NaN</td>\n",
       "      <td>2018</td>\n",
       "      <td>6</td>\n",
       "    </tr>\n",
       "    <tr>\n",
       "      <th>2107</th>\n",
       "      <td>NaN</td>\n",
       "      <td>NaN</td>\n",
       "      <td>NaN</td>\n",
       "      <td>2018</td>\n",
       "      <td>6</td>\n",
       "    </tr>\n",
       "    <tr>\n",
       "      <th>2678</th>\n",
       "      <td>NaN</td>\n",
       "      <td>NaN</td>\n",
       "      <td>NaN</td>\n",
       "      <td>2018</td>\n",
       "      <td>7</td>\n",
       "    </tr>\n",
       "    <tr>\n",
       "      <th>2825</th>\n",
       "      <td>NaN</td>\n",
       "      <td>NaN</td>\n",
       "      <td>NaN</td>\n",
       "      <td>2018</td>\n",
       "      <td>6</td>\n",
       "    </tr>\n",
       "    <tr>\n",
       "      <th>3016</th>\n",
       "      <td>NaN</td>\n",
       "      <td>NaN</td>\n",
       "      <td>NaN</td>\n",
       "      <td>2018</td>\n",
       "      <td>6</td>\n",
       "    </tr>\n",
       "  </tbody>\n",
       "</table>\n",
       "</div>"
      ],
      "text/plain": [
       "      time_to_connect  download_speed  latency  year  day\n",
       "908               NaN             NaN      NaN  2018    6\n",
       "2107              NaN             NaN      NaN  2018    6\n",
       "2678              NaN             NaN      NaN  2018    7\n",
       "2825              NaN             NaN      NaN  2018    6\n",
       "3016              NaN             NaN      NaN  2018    6"
      ]
     },
     "execution_count": 39,
     "metadata": {},
     "output_type": "execute_result"
    }
   ],
   "source": [
    "table[table.time_to_connect.isna() == True].head()"
   ]
  },
  {
   "cell_type": "code",
   "execution_count": 42,
   "metadata": {},
   "outputs": [
    {
     "data": {
      "text/html": [
       "<div>\n",
       "<style scoped>\n",
       "    .dataframe tbody tr th:only-of-type {\n",
       "        vertical-align: middle;\n",
       "    }\n",
       "\n",
       "    .dataframe tbody tr th {\n",
       "        vertical-align: top;\n",
       "    }\n",
       "\n",
       "    .dataframe thead th {\n",
       "        text-align: right;\n",
       "    }\n",
       "</style>\n",
       "<table border=\"1\" class=\"dataframe\">\n",
       "  <thead>\n",
       "    <tr style=\"text-align: right;\">\n",
       "      <th></th>\n",
       "      <th>time_to_connect</th>\n",
       "      <th>download_speed</th>\n",
       "      <th>latency</th>\n",
       "      <th>year</th>\n",
       "      <th>day</th>\n",
       "    </tr>\n",
       "  </thead>\n",
       "  <tbody>\n",
       "    <tr>\n",
       "      <th>908</th>\n",
       "      <td>40.0</td>\n",
       "      <td>33162.0</td>\n",
       "      <td>102.0</td>\n",
       "      <td>2018.0</td>\n",
       "      <td>6.0</td>\n",
       "    </tr>\n",
       "  </tbody>\n",
       "</table>\n",
       "</div>"
      ],
      "text/plain": [
       "     time_to_connect  download_speed  latency    year  day\n",
       "908             40.0         33162.0    102.0  2018.0  6.0"
      ]
     },
     "execution_count": 42,
     "metadata": {},
     "output_type": "execute_result"
    }
   ],
   "source": [
    "pd.DataFrame(table_tr.iloc[908]).T\n",
    "# NaN value is filled with median values"
   ]
  },
  {
   "cell_type": "code",
   "execution_count": 46,
   "metadata": {},
   "outputs": [
    {
     "data": {
      "text/html": [
       "<div>\n",
       "<style scoped>\n",
       "    .dataframe tbody tr th:only-of-type {\n",
       "        vertical-align: middle;\n",
       "    }\n",
       "\n",
       "    .dataframe tbody tr th {\n",
       "        vertical-align: top;\n",
       "    }\n",
       "\n",
       "    .dataframe thead th {\n",
       "        text-align: right;\n",
       "    }\n",
       "</style>\n",
       "<table border=\"1\" class=\"dataframe\">\n",
       "  <thead>\n",
       "    <tr style=\"text-align: right;\">\n",
       "      <th></th>\n",
       "      <th>time_to_connect</th>\n",
       "      <th>download_speed</th>\n",
       "      <th>latency</th>\n",
       "      <th>year</th>\n",
       "      <th>day</th>\n",
       "      <th>user_country</th>\n",
       "      <th>protocol</th>\n",
       "    </tr>\n",
       "  </thead>\n",
       "  <tbody>\n",
       "    <tr>\n",
       "      <th>0</th>\n",
       "      <td>15.0</td>\n",
       "      <td>58942.0</td>\n",
       "      <td>88.0</td>\n",
       "      <td>2018.0</td>\n",
       "      <td>6.0</td>\n",
       "      <td>GB</td>\n",
       "      <td>udp</td>\n",
       "    </tr>\n",
       "    <tr>\n",
       "      <th>1</th>\n",
       "      <td>61.0</td>\n",
       "      <td>11878.0</td>\n",
       "      <td>528.0</td>\n",
       "      <td>2018.0</td>\n",
       "      <td>6.0</td>\n",
       "      <td>FR</td>\n",
       "      <td>udp</td>\n",
       "    </tr>\n",
       "    <tr>\n",
       "      <th>2</th>\n",
       "      <td>52.0</td>\n",
       "      <td>18254.0</td>\n",
       "      <td>322.0</td>\n",
       "      <td>2018.0</td>\n",
       "      <td>6.0</td>\n",
       "      <td>GB</td>\n",
       "      <td>udp</td>\n",
       "    </tr>\n",
       "    <tr>\n",
       "      <th>3</th>\n",
       "      <td>21.0</td>\n",
       "      <td>93798.0</td>\n",
       "      <td>38.0</td>\n",
       "      <td>2018.0</td>\n",
       "      <td>6.0</td>\n",
       "      <td>GB</td>\n",
       "      <td>udp</td>\n",
       "    </tr>\n",
       "    <tr>\n",
       "      <th>4</th>\n",
       "      <td>100.0</td>\n",
       "      <td>12048.0</td>\n",
       "      <td>460.0</td>\n",
       "      <td>2018.0</td>\n",
       "      <td>6.0</td>\n",
       "      <td>GB</td>\n",
       "      <td>tcp</td>\n",
       "    </tr>\n",
       "  </tbody>\n",
       "</table>\n",
       "</div>"
      ],
      "text/plain": [
       "   time_to_connect  download_speed  latency    year  day user_country protocol\n",
       "0             15.0         58942.0     88.0  2018.0  6.0           GB      udp\n",
       "1             61.0         11878.0    528.0  2018.0  6.0           FR      udp\n",
       "2             52.0         18254.0    322.0  2018.0  6.0           GB      udp\n",
       "3             21.0         93798.0     38.0  2018.0  6.0           GB      udp\n",
       "4            100.0         12048.0    460.0  2018.0  6.0           GB      tcp"
      ]
     },
     "execution_count": 46,
     "metadata": {},
     "output_type": "execute_result"
    }
   ],
   "source": [
    "df = table_tr.copy()\n",
    "df['user_country'] = vpn.user_country\n",
    "df['protocol'] = vpn.protocol\n",
    "df.head()"
   ]
  },
  {
   "cell_type": "code",
   "execution_count": 52,
   "metadata": {},
   "outputs": [
    {
     "data": {
      "text/plain": [
       "<matplotlib.axes._subplots.AxesSubplot at 0x1a1ae9df28>"
      ]
     },
     "execution_count": 52,
     "metadata": {},
     "output_type": "execute_result"
    },
    {
     "data": {
      "image/png": "[encoded data removed]",
      "text/plain": [
       "<Figure size 720x504 with 1 Axes>"
      ]
     },
     "metadata": {
      "needs_background": "light"
     },
     "output_type": "display_data"
    }
   ],
   "source": [
    "plt.figure(figsize=(10,7))\n",
    "sns.barplot(data=vpn, x='protocol', y='download_speed')"
   ]
  },
  {
   "cell_type": "code",
   "execution_count": 51,
   "metadata": {},
   "outputs": [
    {
     "data": {
      "text/plain": [
       "<matplotlib.axes._subplots.AxesSubplot at 0x1a1bd24160>"
      ]
     },
     "execution_count": 51,
     "metadata": {},
     "output_type": "execute_result"
    },
    {
     "data": {
      "image/png": "[encoded data removed]",
      "text/plain": [
       "<Figure size 720x504 with 1 Axes>"
      ]
     },
     "metadata": {
      "needs_background": "light"
     },
     "output_type": "display_data"
    }
   ],
   "source": [
    "plt.figure(figsize=(10,7))\n",
    "sns.barplot(data=df, x='protocol', y='download_speed')"
   ]
  },
  {
   "cell_type": "code",
   "execution_count": 53,
   "metadata": {},
   "outputs": [
    {
     "data": {
      "text/plain": [
       "<matplotlib.axes._subplots.AxesSubplot at 0x1a1b7d8978>"
      ]
     },
     "execution_count": 53,
     "metadata": {},
     "output_type": "execute_result"
    },
    {
     "data": {
      "image/png": "[encoded data removed]",
      "text/plain": [
       "<Figure size 720x504 with 1 Axes>"
      ]
     },
     "metadata": {
      "needs_background": "light"
     },
     "output_type": "display_data"
    }
   ],
   "source": [
    "plt.figure(figsize=(10,7))\n",
    "sns.barplot(data=vpn, x='protocol', y='download_speed', hue='user_country')"
   ]
  },
  {
   "cell_type": "code",
   "execution_count": 54,
   "metadata": {},
   "outputs": [
    {
     "data": {
      "text/plain": [
       "<matplotlib.axes._subplots.AxesSubplot at 0x1a1ba0a630>"
      ]
     },
     "execution_count": 54,
     "metadata": {},
     "output_type": "execute_result"
    },
    {
     "data": {
      "image/png": "[encoded data removed]",
      "text/plain": [
       "<Figure size 720x504 with 1 Axes>"
      ]
     },
     "metadata": {
      "needs_background": "light"
     },
     "output_type": "display_data"
    }
   ],
   "source": [
    "plt.figure(figsize=(10,7))\n",
    "sns.barplot(data=df, x='protocol', y='download_speed', hue='user_country')"
   ]
  },
  {
   "cell_type": "code",
   "execution_count": 94,
   "metadata": {},
   "outputs": [
    {
     "data": {
      "text/plain": [
       "array([2, 1, 2, ..., 2, 1, 1])"
      ]
     },
     "execution_count": 94,
     "metadata": {},
     "output_type": "execute_result"
    }
   ],
   "source": [
    "from sklearn.preprocessing import LabelEncoder\n",
    "encoder = LabelEncoder()\n",
    "country_cat = vpn.user_country   # select column\n",
    "country_encoded = encoder.fit_transform(country_cat)\n",
    "country_encoded"
   ]
  },
  {
   "cell_type": "code",
   "execution_count": 95,
   "metadata": {},
   "outputs": [
    {
     "data": {
      "text/plain": [
       "array(['DE', 'FR', 'GB'], dtype=object)"
      ]
     },
     "execution_count": 95,
     "metadata": {},
     "output_type": "execute_result"
    }
   ],
   "source": [
    "encoder.classes_"
   ]
  },
  {
   "cell_type": "code",
   "execution_count": 110,
   "metadata": {},
   "outputs": [
    {
     "data": {
      "text/plain": [
       "array([[0, 0, 1],\n",
       "       [0, 1, 0],\n",
       "       [0, 0, 1],\n",
       "       ...,\n",
       "       [0, 0, 1],\n",
       "       [0, 1, 0],\n",
       "       [0, 1, 0]])"
      ]
     },
     "execution_count": 110,
     "metadata": {},
     "output_type": "execute_result"
    }
   ],
   "source": [
    "from sklearn.preprocessing import LabelBinarizer\n",
    "encoder = LabelBinarizer()\n",
    "country_cat = vpn.user_country   # select column\n",
    "country_cat_1hot = encoder.fit_transform(country_cat)\n",
    "country_cat_1hot"
   ]
  },
  {
   "cell_type": "markdown",
   "metadata": {},
   "source": [
    "Dataset from https://www.mldata.io/dataset-details/school_grades/"
   ]
  },
  {
   "cell_type": "code",
   "execution_count": 55,
   "metadata": {},
   "outputs": [
    {
     "data": {
      "text/html": [
       "<div>\n",
       "<style scoped>\n",
       "    .dataframe tbody tr th:only-of-type {\n",
       "        vertical-align: middle;\n",
       "    }\n",
       "\n",
       "    .dataframe tbody tr th {\n",
       "        vertical-align: top;\n",
       "    }\n",
       "\n",
       "    .dataframe thead th {\n",
       "        text-align: right;\n",
       "    }\n",
       "</style>\n",
       "<table border=\"1\" class=\"dataframe\">\n",
       "  <thead>\n",
       "    <tr style=\"text-align: right;\">\n",
       "      <th></th>\n",
       "      <th>school</th>\n",
       "      <th>sex</th>\n",
       "      <th>age</th>\n",
       "      <th>address</th>\n",
       "      <th>famsize</th>\n",
       "      <th>Pstatus</th>\n",
       "      <th>Medu</th>\n",
       "      <th>Fedu</th>\n",
       "      <th>Mjob</th>\n",
       "      <th>Fjob</th>\n",
       "      <th>...</th>\n",
       "      <th>famrel</th>\n",
       "      <th>freetime</th>\n",
       "      <th>goout</th>\n",
       "      <th>Dalc</th>\n",
       "      <th>Walc</th>\n",
       "      <th>health</th>\n",
       "      <th>absences</th>\n",
       "      <th>G1</th>\n",
       "      <th>G2</th>\n",
       "      <th>G3</th>\n",
       "    </tr>\n",
       "  </thead>\n",
       "  <tbody>\n",
       "    <tr>\n",
       "      <th>0</th>\n",
       "      <td>GP</td>\n",
       "      <td>F</td>\n",
       "      <td>18</td>\n",
       "      <td>U</td>\n",
       "      <td>GT3</td>\n",
       "      <td>A</td>\n",
       "      <td>4</td>\n",
       "      <td>4</td>\n",
       "      <td>at_home</td>\n",
       "      <td>teacher</td>\n",
       "      <td>...</td>\n",
       "      <td>4</td>\n",
       "      <td>3</td>\n",
       "      <td>4</td>\n",
       "      <td>1</td>\n",
       "      <td>1</td>\n",
       "      <td>3</td>\n",
       "      <td>4</td>\n",
       "      <td>0</td>\n",
       "      <td>11</td>\n",
       "      <td>11</td>\n",
       "    </tr>\n",
       "    <tr>\n",
       "      <th>1</th>\n",
       "      <td>GP</td>\n",
       "      <td>F</td>\n",
       "      <td>17</td>\n",
       "      <td>U</td>\n",
       "      <td>GT3</td>\n",
       "      <td>T</td>\n",
       "      <td>1</td>\n",
       "      <td>1</td>\n",
       "      <td>at_home</td>\n",
       "      <td>other</td>\n",
       "      <td>...</td>\n",
       "      <td>5</td>\n",
       "      <td>3</td>\n",
       "      <td>3</td>\n",
       "      <td>1</td>\n",
       "      <td>1</td>\n",
       "      <td>3</td>\n",
       "      <td>2</td>\n",
       "      <td>9</td>\n",
       "      <td>11</td>\n",
       "      <td>11</td>\n",
       "    </tr>\n",
       "    <tr>\n",
       "      <th>2</th>\n",
       "      <td>GP</td>\n",
       "      <td>F</td>\n",
       "      <td>15</td>\n",
       "      <td>U</td>\n",
       "      <td>LE3</td>\n",
       "      <td>T</td>\n",
       "      <td>1</td>\n",
       "      <td>1</td>\n",
       "      <td>at_home</td>\n",
       "      <td>other</td>\n",
       "      <td>...</td>\n",
       "      <td>4</td>\n",
       "      <td>3</td>\n",
       "      <td>2</td>\n",
       "      <td>2</td>\n",
       "      <td>3</td>\n",
       "      <td>3</td>\n",
       "      <td>6</td>\n",
       "      <td>12</td>\n",
       "      <td>13</td>\n",
       "      <td>12</td>\n",
       "    </tr>\n",
       "    <tr>\n",
       "      <th>3</th>\n",
       "      <td>GP</td>\n",
       "      <td>F</td>\n",
       "      <td>15</td>\n",
       "      <td>U</td>\n",
       "      <td>GT3</td>\n",
       "      <td>T</td>\n",
       "      <td>4</td>\n",
       "      <td>2</td>\n",
       "      <td>health</td>\n",
       "      <td>services</td>\n",
       "      <td>...</td>\n",
       "      <td>3</td>\n",
       "      <td>2</td>\n",
       "      <td>2</td>\n",
       "      <td>1</td>\n",
       "      <td>1</td>\n",
       "      <td>5</td>\n",
       "      <td>0</td>\n",
       "      <td>14</td>\n",
       "      <td>14</td>\n",
       "      <td>14</td>\n",
       "    </tr>\n",
       "    <tr>\n",
       "      <th>4</th>\n",
       "      <td>GP</td>\n",
       "      <td>F</td>\n",
       "      <td>16</td>\n",
       "      <td>U</td>\n",
       "      <td>GT3</td>\n",
       "      <td>T</td>\n",
       "      <td>3</td>\n",
       "      <td>3</td>\n",
       "      <td>other</td>\n",
       "      <td>other</td>\n",
       "      <td>...</td>\n",
       "      <td>4</td>\n",
       "      <td>3</td>\n",
       "      <td>2</td>\n",
       "      <td>1</td>\n",
       "      <td>2</td>\n",
       "      <td>5</td>\n",
       "      <td>0</td>\n",
       "      <td>11</td>\n",
       "      <td>13</td>\n",
       "      <td>13</td>\n",
       "    </tr>\n",
       "  </tbody>\n",
       "</table>\n",
       "<p>5 rows × 33 columns</p>\n",
       "</div>"
      ],
      "text/plain": [
       "  school sex  age address famsize Pstatus  Medu  Fedu     Mjob      Fjob ...  \\\n",
       "0     GP   F   18       U     GT3       A     4     4  at_home   teacher ...   \n",
       "1     GP   F   17       U     GT3       T     1     1  at_home     other ...   \n",
       "2     GP   F   15       U     LE3       T     1     1  at_home     other ...   \n",
       "3     GP   F   15       U     GT3       T     4     2   health  services ...   \n",
       "4     GP   F   16       U     GT3       T     3     3    other     other ...   \n",
       "\n",
       "  famrel freetime  goout  Dalc  Walc health absences  G1  G2  G3  \n",
       "0      4        3      4     1     1      3        4   0  11  11  \n",
       "1      5        3      3     1     1      3        2   9  11  11  \n",
       "2      4        3      2     2     3      3        6  12  13  12  \n",
       "3      3        2      2     1     1      5        0  14  14  14  \n",
       "4      4        3      2     1     2      5        0  11  13  13  \n",
       "\n",
       "[5 rows x 33 columns]"
      ]
     },
     "execution_count": 55,
     "metadata": {},
     "output_type": "execute_result"
    }
   ],
   "source": [
    "grades = pd.read_csv('school_grades_dataset.csv')\n",
    "grades.head()"
   ]
  },
  {
   "cell_type": "code",
   "execution_count": 56,
   "metadata": {},
   "outputs": [
    {
     "data": {
      "text/plain": [
       "Index(['school', 'sex', 'age', 'address', 'famsize', 'Pstatus', 'Medu', 'Fedu',\n",
       "       'Mjob', 'Fjob', 'reason', 'guardian', 'traveltime', 'studytime',\n",
       "       'failures', 'schoolsup', 'famsup', 'paid', 'activities', 'nursery',\n",
       "       'higher', 'internet', 'romantic', 'famrel', 'freetime', 'goout', 'Dalc',\n",
       "       'Walc', 'health', 'absences', 'G1', 'G2', 'G3'],\n",
       "      dtype='object')"
      ]
     },
     "execution_count": 56,
     "metadata": {},
     "output_type": "execute_result"
    }
   ],
   "source": [
    "grades.columns"
   ]
  },
  {
   "cell_type": "code",
   "execution_count": 58,
   "metadata": {},
   "outputs": [
    {
     "data": {
      "text/html": [
       "<div>\n",
       "<style scoped>\n",
       "    .dataframe tbody tr th:only-of-type {\n",
       "        vertical-align: middle;\n",
       "    }\n",
       "\n",
       "    .dataframe tbody tr th {\n",
       "        vertical-align: top;\n",
       "    }\n",
       "\n",
       "    .dataframe thead th {\n",
       "        text-align: right;\n",
       "    }\n",
       "</style>\n",
       "<table border=\"1\" class=\"dataframe\">\n",
       "  <thead>\n",
       "    <tr style=\"text-align: right;\">\n",
       "      <th></th>\n",
       "      <th>reason</th>\n",
       "      <th>guardian</th>\n",
       "      <th>traveltime</th>\n",
       "      <th>studytime</th>\n",
       "      <th>failures</th>\n",
       "      <th>schoolsup</th>\n",
       "      <th>famsup</th>\n",
       "      <th>paid</th>\n",
       "      <th>activities</th>\n",
       "      <th>nursery</th>\n",
       "      <th>higher</th>\n",
       "      <th>internet</th>\n",
       "      <th>romantic</th>\n",
       "    </tr>\n",
       "  </thead>\n",
       "  <tbody>\n",
       "    <tr>\n",
       "      <th>0</th>\n",
       "      <td>course</td>\n",
       "      <td>mother</td>\n",
       "      <td>2</td>\n",
       "      <td>2</td>\n",
       "      <td>0</td>\n",
       "      <td>yes</td>\n",
       "      <td>no</td>\n",
       "      <td>no</td>\n",
       "      <td>no</td>\n",
       "      <td>yes</td>\n",
       "      <td>yes</td>\n",
       "      <td>no</td>\n",
       "      <td>no</td>\n",
       "    </tr>\n",
       "    <tr>\n",
       "      <th>1</th>\n",
       "      <td>course</td>\n",
       "      <td>father</td>\n",
       "      <td>1</td>\n",
       "      <td>2</td>\n",
       "      <td>0</td>\n",
       "      <td>no</td>\n",
       "      <td>yes</td>\n",
       "      <td>no</td>\n",
       "      <td>no</td>\n",
       "      <td>no</td>\n",
       "      <td>yes</td>\n",
       "      <td>yes</td>\n",
       "      <td>no</td>\n",
       "    </tr>\n",
       "    <tr>\n",
       "      <th>2</th>\n",
       "      <td>other</td>\n",
       "      <td>mother</td>\n",
       "      <td>1</td>\n",
       "      <td>2</td>\n",
       "      <td>0</td>\n",
       "      <td>yes</td>\n",
       "      <td>no</td>\n",
       "      <td>no</td>\n",
       "      <td>no</td>\n",
       "      <td>yes</td>\n",
       "      <td>yes</td>\n",
       "      <td>yes</td>\n",
       "      <td>no</td>\n",
       "    </tr>\n",
       "    <tr>\n",
       "      <th>3</th>\n",
       "      <td>home</td>\n",
       "      <td>mother</td>\n",
       "      <td>1</td>\n",
       "      <td>3</td>\n",
       "      <td>0</td>\n",
       "      <td>no</td>\n",
       "      <td>yes</td>\n",
       "      <td>no</td>\n",
       "      <td>yes</td>\n",
       "      <td>yes</td>\n",
       "      <td>yes</td>\n",
       "      <td>yes</td>\n",
       "      <td>yes</td>\n",
       "    </tr>\n",
       "    <tr>\n",
       "      <th>4</th>\n",
       "      <td>home</td>\n",
       "      <td>father</td>\n",
       "      <td>1</td>\n",
       "      <td>2</td>\n",
       "      <td>0</td>\n",
       "      <td>no</td>\n",
       "      <td>yes</td>\n",
       "      <td>no</td>\n",
       "      <td>no</td>\n",
       "      <td>yes</td>\n",
       "      <td>yes</td>\n",
       "      <td>no</td>\n",
       "      <td>no</td>\n",
       "    </tr>\n",
       "  </tbody>\n",
       "</table>\n",
       "</div>"
      ],
      "text/plain": [
       "   reason guardian  traveltime  studytime  failures schoolsup famsup paid  \\\n",
       "0  course   mother           2          2         0       yes     no   no   \n",
       "1  course   father           1          2         0        no    yes   no   \n",
       "2   other   mother           1          2         0       yes     no   no   \n",
       "3    home   mother           1          3         0        no    yes   no   \n",
       "4    home   father           1          2         0        no    yes   no   \n",
       "\n",
       "  activities nursery higher internet romantic  \n",
       "0         no     yes    yes       no       no  \n",
       "1         no      no    yes      yes       no  \n",
       "2         no     yes    yes      yes       no  \n",
       "3        yes     yes    yes      yes      yes  \n",
       "4         no     yes    yes       no       no  "
      ]
     },
     "execution_count": 58,
     "metadata": {},
     "output_type": "execute_result"
    }
   ],
   "source": [
    "grades[['reason', 'guardian', 'traveltime', 'studytime',\n",
    "       'failures', 'schoolsup', 'famsup', 'paid', 'activities', 'nursery',\n",
    "       'higher', 'internet', 'romantic']].head()"
   ]
  },
  {
   "cell_type": "code",
   "execution_count": 59,
   "metadata": {},
   "outputs": [
    {
     "data": {
      "text/plain": [
       "other       258\n",
       "services    136\n",
       "at_home     135\n",
       "teacher      72\n",
       "health       48\n",
       "Name: Mjob, dtype: int64"
      ]
     },
     "execution_count": 59,
     "metadata": {},
     "output_type": "execute_result"
    }
   ],
   "source": [
    "grades.Mjob.value_counts()"
   ]
  },
  {
   "cell_type": "code",
   "execution_count": 60,
   "metadata": {},
   "outputs": [
    {
     "data": {
      "text/plain": [
       "array([0, 0, 0, 1, 2, 3, 2, 2, 3, 2, 4, 3, 1, 4, 2, 1, 3, 2, 3, 1, 4, 1,\n",
       "       4, 2, 3, 3, 2, 1, 3, 4, 1, 3, 4, 2, 2, 2, 4, 2, 3, 0, 2, 4, 3, 3,\n",
       "       2, 2, 2, 1, 4, 3, 3, 1, 1, 3, 2, 2, 3, 4, 2, 3, 1, 3, 2, 4, 3, 4,\n",
       "       2, 3, 1, 2, 2, 2, 2, 2, 2, 4, 4, 2, 2, 0, 2, 2, 3, 3, 2, 3, 0, 2,\n",
       "       3, 4, 2, 3, 2, 4, 3, 0, 3, 2, 2, 2, 3, 3, 3, 3, 3, 2, 2, 3, 2, 1,\n",
       "       4, 3, 0, 4, 1, 4, 2, 2, 2, 2, 0, 3, 2, 1, 2, 3, 2, 0, 4, 2, 3, 3,\n",
       "       2, 0, 2, 3, 0, 2, 0, 3, 0, 0, 3, 2, 2, 2, 3, 4, 2, 4, 3, 3, 3, 4,\n",
       "       0, 2, 2, 0, 1, 0, 0, 4, 3, 2, 0, 3, 3, 2, 0, 2, 0, 0, 2, 1, 0, 2,\n",
       "       2, 0, 2, 3, 2, 1, 2, 1, 2, 2, 4, 0, 2, 4, 3, 2, 4, 2, 4, 3, 3, 2,\n",
       "       2, 3, 3, 2, 1, 0, 3, 0, 0, 3, 2, 3, 3, 4, 3, 4, 1, 2, 2, 2, 3, 0,\n",
       "       3, 4, 0, 4, 2, 3, 2, 3, 3, 2, 2, 3, 0, 0, 0, 0, 3, 2, 4, 2, 2, 3,\n",
       "       0, 2, 1, 2, 4, 1, 2, 0, 2, 2, 2, 3, 0, 2, 2, 4, 2, 0, 2, 0, 2, 2,\n",
       "       2, 0, 4, 1, 4, 4, 3, 4, 2, 3, 0, 2, 2, 2, 2, 3, 2, 2, 3, 0, 3, 2,\n",
       "       2, 1, 2, 4, 3, 3, 2, 2, 2, 3, 2, 2, 3, 2, 3, 4, 2, 2, 0, 2, 2, 3,\n",
       "       4, 1, 2, 2, 2, 2, 0, 2, 0, 3, 2, 4, 1, 2, 3, 4, 0, 3, 4, 0, 2, 2,\n",
       "       2, 2, 0, 3, 3, 4, 4, 1, 3, 3, 1, 1, 2, 2, 4, 1, 2, 3, 2, 1, 0, 3,\n",
       "       2, 2, 3, 2, 4, 2, 1, 0, 0, 1, 4, 2, 1, 3, 3, 2, 2, 2, 2, 2, 2, 3,\n",
       "       3, 0, 2, 2, 2, 3, 4, 4, 0, 2, 0, 0, 0, 2, 3, 2, 0, 3, 2, 3, 2, 4,\n",
       "       3, 0, 0, 2, 4, 4, 1, 3, 3, 0, 2, 2, 3, 2, 3, 1, 4, 0, 2, 4, 2, 0,\n",
       "       2, 2, 3, 2, 3, 0, 2, 0, 0, 0, 0, 0, 2, 0, 2, 4, 0, 0, 2, 2, 2, 2,\n",
       "       0, 2, 1, 1, 2, 2, 0, 2, 4, 2, 2, 2, 2, 2, 2, 0, 0, 0, 2, 0, 0, 0,\n",
       "       0, 2, 0, 2, 2, 2, 1, 2, 3, 0, 2, 0, 0, 2, 2, 3, 0, 2, 0, 0, 0, 2,\n",
       "       2, 0, 2, 2, 0, 2, 0, 2, 1, 2, 0, 2, 3, 3, 2, 3, 2, 2, 3, 2, 2, 0,\n",
       "       0, 2, 2, 0, 2, 2, 0, 2, 3, 2, 1, 2, 2, 2, 0, 0, 1, 0, 0, 2, 2, 3,\n",
       "       0, 3, 3, 0, 1, 2, 4, 2, 2, 3, 2, 2, 0, 2, 4, 1, 2, 3, 1, 2, 0, 2,\n",
       "       2, 2, 2, 2, 0, 2, 2, 2, 2, 0, 2, 0, 2, 2, 3, 0, 3, 3, 0, 0, 3, 0,\n",
       "       3, 2, 2, 3, 2, 2, 1, 0, 2, 0, 0, 2, 0, 2, 4, 3, 1, 0, 2, 3, 3, 0,\n",
       "       4, 3, 2, 0, 0, 0, 2, 2, 3, 4, 0, 0, 4, 3, 0, 0, 0, 3, 3, 3, 4, 3,\n",
       "       2, 0, 0, 3, 0, 2, 0, 4, 2, 0, 2, 0, 2, 2, 2, 2, 0, 4, 2, 0, 4, 2,\n",
       "       2, 2, 2, 0, 4, 4, 3, 4, 2, 3, 3])"
      ]
     },
     "execution_count": 60,
     "metadata": {},
     "output_type": "execute_result"
    }
   ],
   "source": [
    "from sklearn.preprocessing import LabelEncoder\n",
    "encoder = LabelEncoder()\n",
    "Mjob_cat = grades.Mjob   # select column\n",
    "Mjob_encoded = encoder.fit_transform(Mjob_cat)\n",
    "Mjob_encoded"
   ]
  },
  {
   "cell_type": "code",
   "execution_count": 61,
   "metadata": {},
   "outputs": [
    {
     "data": {
      "text/plain": [
       "array(['at_home', 'health', 'other', 'services', 'teacher'], dtype=object)"
      ]
     },
     "execution_count": 61,
     "metadata": {},
     "output_type": "execute_result"
    }
   ],
   "source": [
    "encoder.classes_"
   ]
  },
  {
   "cell_type": "code",
   "execution_count": 64,
   "metadata": {},
   "outputs": [
    {
     "data": {
      "text/plain": [
       "array([[1, 0, 0, 0, 0],\n",
       "       [1, 0, 0, 0, 0],\n",
       "       [1, 0, 0, 0, 0],\n",
       "       ...,\n",
       "       [0, 0, 1, 0, 0],\n",
       "       [0, 0, 0, 1, 0],\n",
       "       [0, 0, 0, 1, 0]])"
      ]
     },
     "execution_count": 64,
     "metadata": {},
     "output_type": "execute_result"
    }
   ],
   "source": [
    "from sklearn.preprocessing import LabelBinarizer\n",
    "encoder = LabelBinarizer()\n",
    "Mjob_cat = grades.Mjob   # select column\n",
    "Mjob_cat_1hot = encoder.fit_transform(Mjob_cat)\n",
    "Mjob_cat_1hot"
   ]
  },
  {
   "cell_type": "markdown",
   "metadata": {},
   "source": [
    "## Feature Scaling"
   ]
  },
  {
   "cell_type": "code",
   "execution_count": 66,
   "metadata": {},
   "outputs": [
    {
     "data": {
      "text/html": [
       "<div>\n",
       "<style scoped>\n",
       "    .dataframe tbody tr th:only-of-type {\n",
       "        vertical-align: middle;\n",
       "    }\n",
       "\n",
       "    .dataframe tbody tr th {\n",
       "        vertical-align: top;\n",
       "    }\n",
       "\n",
       "    .dataframe thead th {\n",
       "        text-align: right;\n",
       "    }\n",
       "</style>\n",
       "<table border=\"1\" class=\"dataframe\">\n",
       "  <thead>\n",
       "    <tr style=\"text-align: right;\">\n",
       "      <th></th>\n",
       "      <th>time_to_connect</th>\n",
       "      <th>download_speed</th>\n",
       "      <th>latency</th>\n",
       "      <th>year</th>\n",
       "      <th>day</th>\n",
       "    </tr>\n",
       "  </thead>\n",
       "  <tbody>\n",
       "    <tr>\n",
       "      <th>0</th>\n",
       "      <td>15.0</td>\n",
       "      <td>58942.0</td>\n",
       "      <td>88.0</td>\n",
       "      <td>2018.0</td>\n",
       "      <td>6.0</td>\n",
       "    </tr>\n",
       "    <tr>\n",
       "      <th>1</th>\n",
       "      <td>61.0</td>\n",
       "      <td>11878.0</td>\n",
       "      <td>528.0</td>\n",
       "      <td>2018.0</td>\n",
       "      <td>6.0</td>\n",
       "    </tr>\n",
       "    <tr>\n",
       "      <th>2</th>\n",
       "      <td>52.0</td>\n",
       "      <td>18254.0</td>\n",
       "      <td>322.0</td>\n",
       "      <td>2018.0</td>\n",
       "      <td>6.0</td>\n",
       "    </tr>\n",
       "    <tr>\n",
       "      <th>3</th>\n",
       "      <td>21.0</td>\n",
       "      <td>93798.0</td>\n",
       "      <td>38.0</td>\n",
       "      <td>2018.0</td>\n",
       "      <td>6.0</td>\n",
       "    </tr>\n",
       "    <tr>\n",
       "      <th>4</th>\n",
       "      <td>100.0</td>\n",
       "      <td>12048.0</td>\n",
       "      <td>460.0</td>\n",
       "      <td>2018.0</td>\n",
       "      <td>6.0</td>\n",
       "    </tr>\n",
       "  </tbody>\n",
       "</table>\n",
       "</div>"
      ],
      "text/plain": [
       "   time_to_connect  download_speed  latency    year  day\n",
       "0             15.0         58942.0     88.0  2018.0  6.0\n",
       "1             61.0         11878.0    528.0  2018.0  6.0\n",
       "2             52.0         18254.0    322.0  2018.0  6.0\n",
       "3             21.0         93798.0     38.0  2018.0  6.0\n",
       "4            100.0         12048.0    460.0  2018.0  6.0"
      ]
     },
     "execution_count": 66,
     "metadata": {},
     "output_type": "execute_result"
    }
   ],
   "source": [
    "table_tr.head()"
   ]
  },
  {
   "cell_type": "code",
   "execution_count": 84,
   "metadata": {},
   "outputs": [
    {
     "data": {
      "text/plain": [
       "array([[2.55028308e-04, 1.58106088e-01, 8.99560033e-05, 0.00000000e+00,\n",
       "        0.00000000e+00],\n",
       "       [1.03711512e-03, 3.18615608e-02, 5.39736020e-04, 0.00000000e+00,\n",
       "        0.00000000e+00],\n",
       "       [8.84098135e-04, 4.89645505e-02, 3.29157194e-04, 0.00000000e+00,\n",
       "        0.00000000e+00],\n",
       "       [3.57039631e-04, 2.51603863e-01, 3.88446378e-05, 0.00000000e+00,\n",
       "        0.00000000e+00],\n",
       "       [1.70018872e-03, 3.23175690e-02, 4.70224563e-04, 0.00000000e+00,\n",
       "        0.00000000e+00]])"
      ]
     },
     "execution_count": 84,
     "metadata": {},
     "output_type": "execute_result"
    }
   ],
   "source": [
    "from sklearn.preprocessing import MinMaxScaler\n",
    "scaler = MinMaxScaler()\n",
    "rescaled = scaler.fit_transform(table_tr)\n",
    "rescaled[:5, :]"
   ]
  },
  {
   "cell_type": "code",
   "execution_count": 85,
   "metadata": {},
   "outputs": [
    {
     "data": {
      "text/plain": [
       "array([[-0.1756892 ,  0.42373938, -0.04193477,  0.        , -1.36539125],\n",
       "       [-0.10966321, -0.85349768,  0.0490851 ,  0.        , -1.36539125],\n",
       "       [-0.12258134, -0.68046386,  0.00647125,  0.        , -1.36539125],\n",
       "       [-0.16707711,  1.36967205, -0.05227794,  0.        , -1.36539125],\n",
       "       [-0.05368466, -0.84888417,  0.03501839,  0.        , -1.36539125]])"
      ]
     },
     "execution_count": 85,
     "metadata": {},
     "output_type": "execute_result"
    }
   ],
   "source": [
    "from sklearn.preprocessing import StandardScaler\n",
    "scaler = StandardScaler()\n",
    "standardized = scaler.fit_transform(table_tr)\n",
    "standardized[:5, :]"
   ]
  },
  {
   "cell_type": "code",
   "execution_count": 86,
   "metadata": {},
   "outputs": [
    {
     "data": {
      "text/plain": [
       "array([[2.54338149e-04, 9.99413277e-01, 1.49211714e-03, 3.42169589e-02,\n",
       "        1.01735259e-04],\n",
       "       [5.05807530e-03, 9.84915057e-01, 4.37813731e-02, 1.67331081e-01,\n",
       "        4.97515604e-04],\n",
       "       [2.83099434e-03, 9.93787899e-01, 1.75303880e-02, 1.09864357e-01,\n",
       "        3.26653193e-04],\n",
       "       [2.23833550e-04, 9.99768538e-01, 4.05032138e-04, 2.15093383e-02,\n",
       "        6.39524428e-05],\n",
       "       [8.18002371e-03, 9.85529257e-01, 3.76281091e-02, 1.65072879e-01,\n",
       "        4.90801423e-04]])"
      ]
     },
     "execution_count": 86,
     "metadata": {},
     "output_type": "execute_result"
    }
   ],
   "source": [
    "from sklearn.preprocessing import Normalizer\n",
    "scaler = Normalizer()\n",
    "normalized = scaler.fit_transform(table_tr)\n",
    "normalized[:5, :]"
   ]
  },
  {
   "cell_type": "code",
   "execution_count": 87,
   "metadata": {},
   "outputs": [
    {
     "data": {
      "text/plain": [
       "array([[0., 1., 0., 0., 0.],\n",
       "       [0., 0., 0., 0., 0.],\n",
       "       [0., 0., 0., 0., 0.],\n",
       "       [0., 1., 0., 0., 0.],\n",
       "       [0., 0., 0., 0., 0.]])"
      ]
     },
     "execution_count": 87,
     "metadata": {},
     "output_type": "execute_result"
    }
   ],
   "source": [
    "from sklearn.preprocessing import Binarizer\n",
    "scaler = Binarizer(threshold=30000)   # just example\n",
    "binary = scaler.fit_transform(table_tr)\n",
    "binary[:5, :]"
   ]
  },
  {
   "cell_type": "code",
   "execution_count": 88,
   "metadata": {},
   "outputs": [
    {
     "data": {
      "text/html": [
       "<div>\n",
       "<style scoped>\n",
       "    .dataframe tbody tr th:only-of-type {\n",
       "        vertical-align: middle;\n",
       "    }\n",
       "\n",
       "    .dataframe tbody tr th {\n",
       "        vertical-align: top;\n",
       "    }\n",
       "\n",
       "    .dataframe thead th {\n",
       "        text-align: right;\n",
       "    }\n",
       "</style>\n",
       "<table border=\"1\" class=\"dataframe\">\n",
       "  <thead>\n",
       "    <tr style=\"text-align: right;\">\n",
       "      <th></th>\n",
       "      <th>time_to_connect</th>\n",
       "      <th>download_speed</th>\n",
       "      <th>latency</th>\n",
       "      <th>year</th>\n",
       "      <th>day</th>\n",
       "    </tr>\n",
       "  </thead>\n",
       "  <tbody>\n",
       "    <tr>\n",
       "      <th>0</th>\n",
       "      <td>0.000255</td>\n",
       "      <td>0.158106</td>\n",
       "      <td>0.000090</td>\n",
       "      <td>0.0</td>\n",
       "      <td>0.0</td>\n",
       "    </tr>\n",
       "    <tr>\n",
       "      <th>1</th>\n",
       "      <td>0.001037</td>\n",
       "      <td>0.031862</td>\n",
       "      <td>0.000540</td>\n",
       "      <td>0.0</td>\n",
       "      <td>0.0</td>\n",
       "    </tr>\n",
       "    <tr>\n",
       "      <th>2</th>\n",
       "      <td>0.000884</td>\n",
       "      <td>0.048965</td>\n",
       "      <td>0.000329</td>\n",
       "      <td>0.0</td>\n",
       "      <td>0.0</td>\n",
       "    </tr>\n",
       "    <tr>\n",
       "      <th>3</th>\n",
       "      <td>0.000357</td>\n",
       "      <td>0.251604</td>\n",
       "      <td>0.000039</td>\n",
       "      <td>0.0</td>\n",
       "      <td>0.0</td>\n",
       "    </tr>\n",
       "    <tr>\n",
       "      <th>4</th>\n",
       "      <td>0.001700</td>\n",
       "      <td>0.032318</td>\n",
       "      <td>0.000470</td>\n",
       "      <td>0.0</td>\n",
       "      <td>0.0</td>\n",
       "    </tr>\n",
       "  </tbody>\n",
       "</table>\n",
       "</div>"
      ],
      "text/plain": [
       "   time_to_connect  download_speed   latency  year  day\n",
       "0         0.000255        0.158106  0.000090   0.0  0.0\n",
       "1         0.001037        0.031862  0.000540   0.0  0.0\n",
       "2         0.000884        0.048965  0.000329   0.0  0.0\n",
       "3         0.000357        0.251604  0.000039   0.0  0.0\n",
       "4         0.001700        0.032318  0.000470   0.0  0.0"
      ]
     },
     "execution_count": 88,
     "metadata": {},
     "output_type": "execute_result"
    }
   ],
   "source": [
    "rescaled_df = pd.DataFrame(rescaled, columns = table_tr.columns)\n",
    "rescaled_df.head()"
   ]
  },
  {
   "cell_type": "code",
   "execution_count": 89,
   "metadata": {},
   "outputs": [
    {
     "data": {
      "text/plain": [
       "<matplotlib.axes._subplots.AxesSubplot at 0x1a1c7b25c0>"
      ]
     },
     "execution_count": 89,
     "metadata": {},
     "output_type": "execute_result"
    },
    {
     "data": {
      "image/png": "[encoded data removed]",
      "text/plain": [
       "<Figure size 432x288 with 1 Axes>"
      ]
     },
     "metadata": {
      "needs_background": "light"
     },
     "output_type": "display_data"
    }
   ],
   "source": [
    "# MinMaxScaler()\n",
    "rescaled_df.boxplot()"
   ]
  },
  {
   "cell_type": "code",
   "execution_count": 90,
   "metadata": {},
   "outputs": [
    {
     "data": {
      "image/png": "[encoded data removed]",
      "text/plain": [
       "<Figure size 900x900 with 30 Axes>"
      ]
     },
     "metadata": {
      "needs_background": "light"
     },
     "output_type": "display_data"
    }
   ],
   "source": [
    "g = sns.PairGrid(rescaled_df)\n",
    "g = g.map_diag(plt.hist)\n",
    "g = g.map_offdiag(plt.scatter)"
   ]
  },
  {
   "cell_type": "code",
   "execution_count": 78,
   "metadata": {
    "scrolled": true
   },
   "outputs": [
    {
     "data": {
      "text/html": [
       "<div>\n",
       "<style scoped>\n",
       "    .dataframe tbody tr th:only-of-type {\n",
       "        vertical-align: middle;\n",
       "    }\n",
       "\n",
       "    .dataframe tbody tr th {\n",
       "        vertical-align: top;\n",
       "    }\n",
       "\n",
       "    .dataframe thead th {\n",
       "        text-align: right;\n",
       "    }\n",
       "</style>\n",
       "<table border=\"1\" class=\"dataframe\">\n",
       "  <thead>\n",
       "    <tr style=\"text-align: right;\">\n",
       "      <th></th>\n",
       "      <th>time_to_connect</th>\n",
       "      <th>download_speed</th>\n",
       "      <th>latency</th>\n",
       "      <th>year</th>\n",
       "      <th>day</th>\n",
       "    </tr>\n",
       "  </thead>\n",
       "  <tbody>\n",
       "    <tr>\n",
       "      <th>0</th>\n",
       "      <td>-0.175689</td>\n",
       "      <td>0.423739</td>\n",
       "      <td>-0.041935</td>\n",
       "      <td>0.0</td>\n",
       "      <td>-1.365391</td>\n",
       "    </tr>\n",
       "    <tr>\n",
       "      <th>1</th>\n",
       "      <td>-0.109663</td>\n",
       "      <td>-0.853498</td>\n",
       "      <td>0.049085</td>\n",
       "      <td>0.0</td>\n",
       "      <td>-1.365391</td>\n",
       "    </tr>\n",
       "    <tr>\n",
       "      <th>2</th>\n",
       "      <td>-0.122581</td>\n",
       "      <td>-0.680464</td>\n",
       "      <td>0.006471</td>\n",
       "      <td>0.0</td>\n",
       "      <td>-1.365391</td>\n",
       "    </tr>\n",
       "    <tr>\n",
       "      <th>3</th>\n",
       "      <td>-0.167077</td>\n",
       "      <td>1.369672</td>\n",
       "      <td>-0.052278</td>\n",
       "      <td>0.0</td>\n",
       "      <td>-1.365391</td>\n",
       "    </tr>\n",
       "    <tr>\n",
       "      <th>4</th>\n",
       "      <td>-0.053685</td>\n",
       "      <td>-0.848884</td>\n",
       "      <td>0.035018</td>\n",
       "      <td>0.0</td>\n",
       "      <td>-1.365391</td>\n",
       "    </tr>\n",
       "  </tbody>\n",
       "</table>\n",
       "</div>"
      ],
      "text/plain": [
       "   time_to_connect  download_speed   latency  year       day\n",
       "0        -0.175689        0.423739 -0.041935   0.0 -1.365391\n",
       "1        -0.109663       -0.853498  0.049085   0.0 -1.365391\n",
       "2        -0.122581       -0.680464  0.006471   0.0 -1.365391\n",
       "3        -0.167077        1.369672 -0.052278   0.0 -1.365391\n",
       "4        -0.053685       -0.848884  0.035018   0.0 -1.365391"
      ]
     },
     "execution_count": 78,
     "metadata": {},
     "output_type": "execute_result"
    }
   ],
   "source": [
    "standardized_df = pd.DataFrame(standardized, columns = table_tr.columns)\n",
    "standardized_df.head()"
   ]
  },
  {
   "cell_type": "code",
   "execution_count": 79,
   "metadata": {},
   "outputs": [
    {
     "data": {
      "text/plain": [
       "<matplotlib.axes._subplots.AxesSubplot at 0x1a1ef6b668>"
      ]
     },
     "execution_count": 79,
     "metadata": {},
     "output_type": "execute_result"
    },
    {
     "data": {
      "image/png": "[encoded data removed]",
      "text/plain": [
       "<Figure size 432x288 with 1 Axes>"
      ]
     },
     "metadata": {
      "needs_background": "light"
     },
     "output_type": "display_data"
    }
   ],
   "source": [
    "# StandardScaler()\n",
    "standardized_df.boxplot()"
   ]
  },
  {
   "cell_type": "code",
   "execution_count": 113,
   "metadata": {},
   "outputs": [
    {
     "data": {
      "text/html": [
       "<div>\n",
       "<style scoped>\n",
       "    .dataframe tbody tr th:only-of-type {\n",
       "        vertical-align: middle;\n",
       "    }\n",
       "\n",
       "    .dataframe tbody tr th {\n",
       "        vertical-align: top;\n",
       "    }\n",
       "\n",
       "    .dataframe thead th {\n",
       "        text-align: right;\n",
       "    }\n",
       "</style>\n",
       "<table border=\"1\" class=\"dataframe\">\n",
       "  <thead>\n",
       "    <tr style=\"text-align: right;\">\n",
       "      <th></th>\n",
       "      <th>time_to_connect</th>\n",
       "      <th>download_speed</th>\n",
       "      <th>latency</th>\n",
       "      <th>year</th>\n",
       "      <th>day</th>\n",
       "    </tr>\n",
       "  </thead>\n",
       "  <tbody>\n",
       "    <tr>\n",
       "      <th>count</th>\n",
       "      <td>6.553400e+04</td>\n",
       "      <td>6.553400e+04</td>\n",
       "      <td>6.553400e+04</td>\n",
       "      <td>65534.0</td>\n",
       "      <td>6.553400e+04</td>\n",
       "    </tr>\n",
       "    <tr>\n",
       "      <th>mean</th>\n",
       "      <td>9.539364e-18</td>\n",
       "      <td>-2.961419e-16</td>\n",
       "      <td>6.042801e-16</td>\n",
       "      <td>0.0</td>\n",
       "      <td>2.505348e-14</td>\n",
       "    </tr>\n",
       "    <tr>\n",
       "      <th>std</th>\n",
       "      <td>1.000008e+00</td>\n",
       "      <td>1.000008e+00</td>\n",
       "      <td>1.000008e+00</td>\n",
       "      <td>0.0</td>\n",
       "      <td>1.000008e+00</td>\n",
       "    </tr>\n",
       "    <tr>\n",
       "      <th>min</th>\n",
       "      <td>-1.972194e-01</td>\n",
       "      <td>-1.175846e+00</td>\n",
       "      <td>-6.013875e-02</td>\n",
       "      <td>0.0</td>\n",
       "      <td>-1.365391e+00</td>\n",
       "    </tr>\n",
       "    <tr>\n",
       "      <th>25%</th>\n",
       "      <td>-1.613357e-01</td>\n",
       "      <td>-7.211632e-01</td>\n",
       "      <td>-4.565831e-02</td>\n",
       "      <td>0.0</td>\n",
       "      <td>-8.207738e-01</td>\n",
       "    </tr>\n",
       "    <tr>\n",
       "      <th>50%</th>\n",
       "      <td>-1.398055e-01</td>\n",
       "      <td>-2.758861e-01</td>\n",
       "      <td>-3.903869e-02</td>\n",
       "      <td>0.0</td>\n",
       "      <td>-2.761564e-01</td>\n",
       "    </tr>\n",
       "    <tr>\n",
       "      <th>75%</th>\n",
       "      <td>-8.669765e-02</td>\n",
       "      <td>4.382715e-01</td>\n",
       "      <td>-2.724748e-02</td>\n",
       "      <td>0.0</td>\n",
       "      <td>8.130784e-01</td>\n",
       "    </tr>\n",
       "    <tr>\n",
       "      <th>max</th>\n",
       "      <td>8.422562e+01</td>\n",
       "      <td>8.941321e+00</td>\n",
       "      <td>2.023052e+02</td>\n",
       "      <td>0.0</td>\n",
       "      <td>2.446931e+00</td>\n",
       "    </tr>\n",
       "  </tbody>\n",
       "</table>\n",
       "</div>"
      ],
      "text/plain": [
       "       time_to_connect  download_speed       latency     year           day\n",
       "count     6.553400e+04    6.553400e+04  6.553400e+04  65534.0  6.553400e+04\n",
       "mean      9.539364e-18   -2.961419e-16  6.042801e-16      0.0  2.505348e-14\n",
       "std       1.000008e+00    1.000008e+00  1.000008e+00      0.0  1.000008e+00\n",
       "min      -1.972194e-01   -1.175846e+00 -6.013875e-02      0.0 -1.365391e+00\n",
       "25%      -1.613357e-01   -7.211632e-01 -4.565831e-02      0.0 -8.207738e-01\n",
       "50%      -1.398055e-01   -2.758861e-01 -3.903869e-02      0.0 -2.761564e-01\n",
       "75%      -8.669765e-02    4.382715e-01 -2.724748e-02      0.0  8.130784e-01\n",
       "max       8.422562e+01    8.941321e+00  2.023052e+02      0.0  2.446931e+00"
      ]
     },
     "execution_count": 113,
     "metadata": {},
     "output_type": "execute_result"
    }
   ],
   "source": [
    "standardized_df.describe()"
   ]
  },
  {
   "cell_type": "code",
   "execution_count": 114,
   "metadata": {},
   "outputs": [
    {
     "data": {
      "text/html": [
       "<div>\n",
       "<style scoped>\n",
       "    .dataframe tbody tr th:only-of-type {\n",
       "        vertical-align: middle;\n",
       "    }\n",
       "\n",
       "    .dataframe tbody tr th {\n",
       "        vertical-align: top;\n",
       "    }\n",
       "\n",
       "    .dataframe thead th {\n",
       "        text-align: right;\n",
       "    }\n",
       "</style>\n",
       "<table border=\"1\" class=\"dataframe\">\n",
       "  <thead>\n",
       "    <tr style=\"text-align: right;\">\n",
       "      <th></th>\n",
       "      <th>time_to_connect</th>\n",
       "      <th>download_speed</th>\n",
       "      <th>latency</th>\n",
       "      <th>year</th>\n",
       "      <th>day</th>\n",
       "    </tr>\n",
       "  </thead>\n",
       "  <tbody>\n",
       "    <tr>\n",
       "      <th>count</th>\n",
       "      <td>65534.000000</td>\n",
       "      <td>65534.000000</td>\n",
       "      <td>65534.000000</td>\n",
       "      <td>65534.0</td>\n",
       "      <td>65534.000000</td>\n",
       "    </tr>\n",
       "    <tr>\n",
       "      <th>mean</th>\n",
       "      <td>137.401852</td>\n",
       "      <td>43327.928898</td>\n",
       "      <td>290.717277</td>\n",
       "      <td>2018.0</td>\n",
       "      <td>11.014130</td>\n",
       "    </tr>\n",
       "    <tr>\n",
       "      <th>std</th>\n",
       "      <td>696.700693</td>\n",
       "      <td>36848.569901</td>\n",
       "      <td>4834.146153</td>\n",
       "      <td>0.0</td>\n",
       "      <td>3.672331</td>\n",
       "    </tr>\n",
       "    <tr>\n",
       "      <th>min</th>\n",
       "      <td>0.000000</td>\n",
       "      <td>0.000000</td>\n",
       "      <td>0.000000</td>\n",
       "      <td>2018.0</td>\n",
       "      <td>6.000000</td>\n",
       "    </tr>\n",
       "    <tr>\n",
       "      <th>25%</th>\n",
       "      <td>25.000000</td>\n",
       "      <td>16754.300000</td>\n",
       "      <td>70.000000</td>\n",
       "      <td>2018.0</td>\n",
       "      <td>8.000000</td>\n",
       "    </tr>\n",
       "    <tr>\n",
       "      <th>50%</th>\n",
       "      <td>40.000000</td>\n",
       "      <td>33162.000000</td>\n",
       "      <td>102.000000</td>\n",
       "      <td>2018.0</td>\n",
       "      <td>10.000000</td>\n",
       "    </tr>\n",
       "    <tr>\n",
       "      <th>75%</th>\n",
       "      <td>77.000000</td>\n",
       "      <td>59477.485325</td>\n",
       "      <td>159.000000</td>\n",
       "      <td>2018.0</td>\n",
       "      <td>14.000000</td>\n",
       "    </tr>\n",
       "    <tr>\n",
       "      <th>max</th>\n",
       "      <td>58817.000000</td>\n",
       "      <td>372800.317800</td>\n",
       "      <td>978256.000000</td>\n",
       "      <td>2018.0</td>\n",
       "      <td>20.000000</td>\n",
       "    </tr>\n",
       "  </tbody>\n",
       "</table>\n",
       "</div>"
      ],
      "text/plain": [
       "       time_to_connect  download_speed        latency     year           day\n",
       "count     65534.000000    65534.000000   65534.000000  65534.0  65534.000000\n",
       "mean        137.401852    43327.928898     290.717277   2018.0     11.014130\n",
       "std         696.700693    36848.569901    4834.146153      0.0      3.672331\n",
       "min           0.000000        0.000000       0.000000   2018.0      6.000000\n",
       "25%          25.000000    16754.300000      70.000000   2018.0      8.000000\n",
       "50%          40.000000    33162.000000     102.000000   2018.0     10.000000\n",
       "75%          77.000000    59477.485325     159.000000   2018.0     14.000000\n",
       "max       58817.000000   372800.317800  978256.000000   2018.0     20.000000"
      ]
     },
     "execution_count": 114,
     "metadata": {},
     "output_type": "execute_result"
    }
   ],
   "source": [
    "table_tr.describe()"
   ]
  },
  {
   "cell_type": "code",
   "execution_count": 80,
   "metadata": {},
   "outputs": [
    {
     "data": {
      "image/png": "[encoded data removed]",
      "text/plain": [
       "<Figure size 900x900 with 30 Axes>"
      ]
     },
     "metadata": {
      "needs_background": "light"
     },
     "output_type": "display_data"
    }
   ],
   "source": [
    "g = sns.PairGrid(standardized_df)\n",
    "g = g.map_diag(plt.hist)\n",
    "g = g.map_offdiag(plt.scatter)"
   ]
  },
  {
   "cell_type": "code",
   "execution_count": 81,
   "metadata": {},
   "outputs": [
    {
     "data": {
      "text/html": [
       "<div>\n",
       "<style scoped>\n",
       "    .dataframe tbody tr th:only-of-type {\n",
       "        vertical-align: middle;\n",
       "    }\n",
       "\n",
       "    .dataframe tbody tr th {\n",
       "        vertical-align: top;\n",
       "    }\n",
       "\n",
       "    .dataframe thead th {\n",
       "        text-align: right;\n",
       "    }\n",
       "</style>\n",
       "<table border=\"1\" class=\"dataframe\">\n",
       "  <thead>\n",
       "    <tr style=\"text-align: right;\">\n",
       "      <th></th>\n",
       "      <th>time_to_connect</th>\n",
       "      <th>download_speed</th>\n",
       "      <th>latency</th>\n",
       "      <th>year</th>\n",
       "      <th>day</th>\n",
       "    </tr>\n",
       "  </thead>\n",
       "  <tbody>\n",
       "    <tr>\n",
       "      <th>0</th>\n",
       "      <td>0.000254</td>\n",
       "      <td>0.999413</td>\n",
       "      <td>0.001492</td>\n",
       "      <td>0.034217</td>\n",
       "      <td>0.000102</td>\n",
       "    </tr>\n",
       "    <tr>\n",
       "      <th>1</th>\n",
       "      <td>0.005058</td>\n",
       "      <td>0.984915</td>\n",
       "      <td>0.043781</td>\n",
       "      <td>0.167331</td>\n",
       "      <td>0.000498</td>\n",
       "    </tr>\n",
       "    <tr>\n",
       "      <th>2</th>\n",
       "      <td>0.002831</td>\n",
       "      <td>0.993788</td>\n",
       "      <td>0.017530</td>\n",
       "      <td>0.109864</td>\n",
       "      <td>0.000327</td>\n",
       "    </tr>\n",
       "    <tr>\n",
       "      <th>3</th>\n",
       "      <td>0.000224</td>\n",
       "      <td>0.999769</td>\n",
       "      <td>0.000405</td>\n",
       "      <td>0.021509</td>\n",
       "      <td>0.000064</td>\n",
       "    </tr>\n",
       "    <tr>\n",
       "      <th>4</th>\n",
       "      <td>0.008180</td>\n",
       "      <td>0.985529</td>\n",
       "      <td>0.037628</td>\n",
       "      <td>0.165073</td>\n",
       "      <td>0.000491</td>\n",
       "    </tr>\n",
       "  </tbody>\n",
       "</table>\n",
       "</div>"
      ],
      "text/plain": [
       "   time_to_connect  download_speed   latency      year       day\n",
       "0         0.000254        0.999413  0.001492  0.034217  0.000102\n",
       "1         0.005058        0.984915  0.043781  0.167331  0.000498\n",
       "2         0.002831        0.993788  0.017530  0.109864  0.000327\n",
       "3         0.000224        0.999769  0.000405  0.021509  0.000064\n",
       "4         0.008180        0.985529  0.037628  0.165073  0.000491"
      ]
     },
     "execution_count": 81,
     "metadata": {},
     "output_type": "execute_result"
    }
   ],
   "source": [
    "normalized_df = pd.DataFrame(normalized, columns = table_tr.columns)\n",
    "normalized_df.head()"
   ]
  },
  {
   "cell_type": "code",
   "execution_count": 82,
   "metadata": {},
   "outputs": [
    {
     "data": {
      "text/plain": [
       "<matplotlib.axes._subplots.AxesSubplot at 0x1a213feb00>"
      ]
     },
     "execution_count": 82,
     "metadata": {},
     "output_type": "execute_result"
    },
    {
     "data": {
      "image/png": "[encoded data removed]",
      "text/plain": [
       "<Figure size 432x288 with 1 Axes>"
      ]
     },
     "metadata": {
      "needs_background": "light"
     },
     "output_type": "display_data"
    }
   ],
   "source": [
    "# Normalizer()\n",
    "normalized_df.boxplot()"
   ]
  },
  {
   "cell_type": "code",
   "execution_count": 83,
   "metadata": {},
   "outputs": [
    {
     "data": {
      "image/png": "[encoded data removed]",
      "text/plain": [
       "<Figure size 900x900 with 30 Axes>"
      ]
     },
     "metadata": {
      "needs_background": "light"
     },
     "output_type": "display_data"
    }
   ],
   "source": [
    "g = sns.PairGrid(normalized_df)\n",
    "g = g.map_diag(plt.hist)\n",
    "g = g.map_offdiag(plt.scatter)"
   ]
  },
  {
   "cell_type": "code",
   "execution_count": null,
   "metadata": {},
   "outputs": [],
   "source": []
  }
 ],
 "metadata": {
  "kernelspec": {
   "display_name": "Python 3",
   "language": "python",
   "name": "python3"
  },
  "language_info": {
   "codemirror_mode": {
    "name": "ipython",
    "version": 3
   },
   "file_extension": ".py",
   "mimetype": "text/x-python",
   "name": "python",
   "nbconvert_exporter": "python",
   "pygments_lexer": "ipython3",
   "version": "3.7.1"
  }
 },
 "nbformat": 4,
 "nbformat_minor": 2
}
