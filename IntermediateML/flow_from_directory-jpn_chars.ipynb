{
 "cells": [
  {
   "cell_type": "code",
   "execution_count": 2,
   "metadata": {},
   "outputs": [],
   "source": [
    "import numpy as np\n",
    "from keras.applications import vgg16\n",
    "from keras.layers import Dense, Dropout, Flatten\n",
    "from keras import callbacks\n",
    "from keras.preprocessing.image import ImageDataGenerator\n",
    "from keras.models import Model\n",
    "import matplotlib.pyplot as plt"
   ]
  },
  {
   "cell_type": "code",
   "execution_count": 3,
   "metadata": {},
   "outputs": [],
   "source": [
    "train_datagen = ImageDataGenerator(preprocessing_function=vgg16.preprocess_input)\n",
    "test_datagen = ImageDataGenerator(preprocessing_function=vgg16.preprocess_input)"
   ]
  },
  {
   "cell_type": "code",
   "execution_count": 4,
   "metadata": {},
   "outputs": [
    {
     "name": "stdout",
     "output_type": "stream",
     "text": [
      "Found 92 images belonging to 2 classes.\n",
      "Found 40 images belonging to 2 classes.\n",
      "Found 20 images belonging to 1 classes.\n"
     ]
    }
   ],
   "source": [
    "train_generator = train_datagen.flow_from_directory(\n",
    "    directory='./japanese_characters/Train', \n",
    "    target_size=(64,64), \n",
    "    color_mode='rgb', \n",
    "    batch_size=3, \n",
    "    class_mode='categorical', \n",
    "    shuffle=True, \n",
    "    seed=42)\n",
    "\n",
    "valid_generator = test_datagen.flow_from_directory(\n",
    "    directory='./japanese_characters/Valid', \n",
    "    target_size=(64,64), \n",
    "    color_mode='rgb', \n",
    "    batch_size=2, \n",
    "    class_mode='categorical', \n",
    "    shuffle=True, \n",
    "    seed=42)\n",
    "\n",
    "test_generator = test_datagen.flow_from_directory(\n",
    "    directory='./japanese_characters/Test', \n",
    "    target_size=(64,64), \n",
    "    color_mode='rgb', \n",
    "    batch_size=1, \n",
    "    class_mode=None, \n",
    "    shuffle=False, \n",
    "    seed=42)"
   ]
  },
  {
   "cell_type": "code",
   "execution_count": 5,
   "metadata": {},
   "outputs": [],
   "source": [
    "STEP_SIZE_TRAIN = train_generator.n // train_generator.batch_size\n",
    "STEP_SIZE_VALID = valid_generator.n // valid_generator.batch_size"
   ]
  },
  {
   "cell_type": "code",
   "execution_count": 6,
   "metadata": {},
   "outputs": [
    {
     "data": {
      "text/plain": [
       "(92, 40)"
      ]
     },
     "execution_count": 6,
     "metadata": {},
     "output_type": "execute_result"
    }
   ],
   "source": [
    "train_generator.n, valid_generator.n"
   ]
  },
  {
   "cell_type": "code",
   "execution_count": 7,
   "metadata": {},
   "outputs": [
    {
     "data": {
      "text/plain": [
       "(30, 20)"
      ]
     },
     "execution_count": 7,
     "metadata": {},
     "output_type": "execute_result"
    }
   ],
   "source": [
    "STEP_SIZE_TRAIN, STEP_SIZE_VALID"
   ]
  },
  {
   "cell_type": "code",
   "execution_count": 76,
   "metadata": {},
   "outputs": [],
   "source": [
    "base_model = vgg16.VGG16(weights='imagenet', include_top=False, input_shape=(64,64,3))"
   ]
  },
  {
   "cell_type": "code",
   "execution_count": 77,
   "metadata": {},
   "outputs": [],
   "source": [
    "x = base_model.output\n",
    "x = Flatten()(x)\n",
    "x = Dense(128, activation='relu')(x)        \n",
    "x = Dense(128, activation='relu')(x)        \n",
    "x = Dropout(0.2)(x)\n",
    "predictions = Dense(2, activation='softmax')(x)"
   ]
  },
  {
   "cell_type": "code",
   "execution_count": 78,
   "metadata": {},
   "outputs": [
    {
     "data": {
      "text/plain": [
       "<tf.Tensor 'dropout_6/cond/Merge:0' shape=(?, 128) dtype=float32>"
      ]
     },
     "execution_count": 78,
     "metadata": {},
     "output_type": "execute_result"
    }
   ],
   "source": [
    "x"
   ]
  },
  {
   "cell_type": "code",
   "execution_count": 79,
   "metadata": {},
   "outputs": [
    {
     "data": {
      "text/plain": [
       "<tf.Tensor 'dense_18/Softmax:0' shape=(?, 2) dtype=float32>"
      ]
     },
     "execution_count": 79,
     "metadata": {},
     "output_type": "execute_result"
    }
   ],
   "source": [
    "predictions"
   ]
  },
  {
   "cell_type": "code",
   "execution_count": 80,
   "metadata": {},
   "outputs": [
    {
     "data": {
      "text/plain": [
       "<tf.Tensor 'block5_pool_4/MaxPool:0' shape=(?, 2, 2, 512) dtype=float32>"
      ]
     },
     "execution_count": 80,
     "metadata": {},
     "output_type": "execute_result"
    }
   ],
   "source": [
    "base_model.output"
   ]
  },
  {
   "cell_type": "code",
   "execution_count": 81,
   "metadata": {},
   "outputs": [
    {
     "data": {
      "text/plain": [
       "<tf.Tensor 'input_5:0' shape=(?, 64, 64, 3) dtype=float32>"
      ]
     },
     "execution_count": 81,
     "metadata": {},
     "output_type": "execute_result"
    }
   ],
   "source": [
    "base_model.input"
   ]
  },
  {
   "cell_type": "code",
   "execution_count": 82,
   "metadata": {},
   "outputs": [],
   "source": [
    "# Define trainable model which links input from the base model to the new classification prediction layers\n",
    "model = Model(inputs=base_model.input, outputs=predictions)"
   ]
  },
  {
   "cell_type": "code",
   "execution_count": 83,
   "metadata": {},
   "outputs": [],
   "source": [
    "for layer in base_model.layers:\n",
    "    layer.trainable = False"
   ]
  },
  {
   "cell_type": "code",
   "execution_count": 84,
   "metadata": {},
   "outputs": [],
   "source": [
    "model.compile(optimizer='adam', loss='categorical_crossentropy', metrics=['accuracy'])"
   ]
  },
  {
   "cell_type": "code",
   "execution_count": 85,
   "metadata": {},
   "outputs": [
    {
     "name": "stdout",
     "output_type": "stream",
     "text": [
      "Epoch 1/5\n",
      "30/30 [==============================] - 2s 73ms/step - loss: 3.7372 - acc: 0.6556 - val_loss: 3.6138 - val_acc: 0.7000\n",
      "Epoch 2/5\n",
      "30/30 [==============================] - 1s 50ms/step - loss: 1.6959 - acc: 0.8390 - val_loss: 1.4226 - val_acc: 0.8750\n",
      "Epoch 3/5\n",
      "30/30 [==============================] - 2s 50ms/step - loss: 1.3580 - acc: 0.8501 - val_loss: 2.9306 - val_acc: 0.8000\n",
      "Epoch 4/5\n",
      "30/30 [==============================] - 2s 51ms/step - loss: 1.5671 - acc: 0.8501 - val_loss: 1.3593 - val_acc: 0.8750\n",
      "Epoch 5/5\n",
      "30/30 [==============================] - 2s 55ms/step - loss: 0.7968 - acc: 0.9333 - val_loss: 1.0134 - val_acc: 0.9250\n"
     ]
    }
   ],
   "source": [
    "hist = model.fit_generator(generator=train_generator,\n",
    "                    steps_per_epoch=STEP_SIZE_TRAIN,\n",
    "                    validation_data=valid_generator,\n",
    "                    validation_steps=STEP_SIZE_VALID,\n",
    "                    epochs=5)"
   ]
  },
  {
   "cell_type": "code",
   "execution_count": 87,
   "metadata": {},
   "outputs": [
    {
     "name": "stdout",
     "output_type": "stream",
     "text": [
      "Score: [0.3554503619670868, 0.975]\n"
     ]
    }
   ],
   "source": [
    "score = model.evaluate_generator(generator=valid_generator, steps=STEP_SIZE_VALID)\n",
    "print('Score:', score)"
   ]
  },
  {
   "cell_type": "code",
   "execution_count": 88,
   "metadata": {},
   "outputs": [
    {
     "data": {
      "text/plain": [
       "<matplotlib.legend.Legend at 0x14298fb00>"
      ]
     },
     "execution_count": 88,
     "metadata": {},
     "output_type": "execute_result"
    },
    {
     "data": {
      "image/png": "[encoded data removed]",
      "text/plain": [
       "<Figure size 432x288 with 1 Axes>"
      ]
     },
     "metadata": {
      "needs_background": "light"
     },
     "output_type": "display_data"
    }
   ],
   "source": [
    "# Plot data to see relationships in training and validation data\n",
    "epoch_list = list(range(1, len(hist.history['acc']) + 1))  # values for x axis [1, 2, ..., # of epochs]\n",
    "plt.plot(epoch_list, hist.history['acc'], epoch_list, hist.history['val_acc'])\n",
    "plt.legend(('Training Accuracy', 'Validation Accuracy'))"
   ]
  },
  {
   "cell_type": "code",
   "execution_count": 89,
   "metadata": {},
   "outputs": [
    {
     "data": {
      "text/plain": [
       "20"
      ]
     },
     "execution_count": 89,
     "metadata": {},
     "output_type": "execute_result"
    }
   ],
   "source": [
    "STEP_SIZE_TEST = test_generator.n // test_generator.batch_size\n",
    "STEP_SIZE_TEST"
   ]
  },
  {
   "cell_type": "code",
   "execution_count": 90,
   "metadata": {},
   "outputs": [],
   "source": [
    "test_generator.reset()"
   ]
  },
  {
   "cell_type": "code",
   "execution_count": 91,
   "metadata": {},
   "outputs": [
    {
     "name": "stdout",
     "output_type": "stream",
     "text": [
      "20/20 [==============================] - 0s 23ms/step\n"
     ]
    },
    {
     "data": {
      "text/plain": [
       "array([[2.6950468e-03, 9.9730492e-01],\n",
       "       [1.0000000e+00, 1.4967864e-11],\n",
       "       [1.0000000e+00, 1.2301988e-16],\n",
       "       [1.0000000e+00, 3.1804190e-30],\n",
       "       [9.7935557e-12, 1.0000000e+00],\n",
       "       [1.0000000e+00, 1.5638670e-17],\n",
       "       [1.0000000e+00, 1.9882616e-13],\n",
       "       [1.0000000e+00, 0.0000000e+00],\n",
       "       [1.0000000e+00, 1.7420323e-25],\n",
       "       [1.0000000e+00, 2.1077885e-16],\n",
       "       [2.2385381e-10, 1.0000000e+00],\n",
       "       [1.7414077e-10, 1.0000000e+00],\n",
       "       [7.0832520e-15, 1.0000000e+00],\n",
       "       [1.5290860e-17, 1.0000000e+00],\n",
       "       [9.9874675e-01, 1.2532562e-03],\n",
       "       [7.7899509e-28, 1.0000000e+00],\n",
       "       [4.3598594e-13, 1.0000000e+00],\n",
       "       [1.5996852e-03, 9.9840027e-01],\n",
       "       [1.9042055e-17, 1.0000000e+00],\n",
       "       [1.7851213e-03, 9.9821496e-01]], dtype=float32)"
      ]
     },
     "execution_count": 91,
     "metadata": {},
     "output_type": "execute_result"
    }
   ],
   "source": [
    "pred = model.predict_generator(test_generator, steps=STEP_SIZE_TEST, verbose=1)\n",
    "pred"
   ]
  },
  {
   "cell_type": "code",
   "execution_count": 94,
   "metadata": {},
   "outputs": [
    {
     "data": {
      "text/plain": [
       "array([1, 0, 0, 0, 1, 0, 0, 0, 0, 0, 1, 1, 1, 1, 0, 1, 1, 1, 1, 1])"
      ]
     },
     "execution_count": 94,
     "metadata": {},
     "output_type": "execute_result"
    }
   ],
   "source": [
    "predicted_class_indices = np.argmax(pred, axis=1)\n",
    "predicted_class_indices"
   ]
  },
  {
   "cell_type": "code",
   "execution_count": 97,
   "metadata": {},
   "outputs": [
    {
     "data": {
      "text/plain": [
       "{'Hiragana': 0, 'Katakana': 1}"
      ]
     },
     "execution_count": 97,
     "metadata": {},
     "output_type": "execute_result"
    }
   ],
   "source": [
    "labels = (train_generator.class_indices)\n",
    "labels"
   ]
  },
  {
   "cell_type": "code",
   "execution_count": 99,
   "metadata": {},
   "outputs": [
    {
     "name": "stdout",
     "output_type": "stream",
     "text": [
      "predictions for test images ['Katakana', 'Hiragana', 'Hiragana', 'Hiragana', 'Katakana', 'Hiragana', 'Hiragana', 'Hiragana', 'Hiragana', 'Hiragana', 'Katakana', 'Katakana', 'Katakana', 'Katakana', 'Hiragana', 'Katakana', 'Katakana', 'Katakana', 'Katakana', 'Katakana']\n"
     ]
    }
   ],
   "source": [
    "labels = dict((v,k) for k,v in labels.items())\n",
    "predictions = [labels[k] for k in predicted_class_indices]\n",
    "print('predictions for test images', predictions)"
   ]
  },
  {
   "cell_type": "markdown",
   "metadata": {},
   "source": [
    "<b>actual_test_labels: </b>\n",
    "* first 10 images Hiragana\n",
    "* next 10 images Katakana"
   ]
  },
  {
   "cell_type": "code",
   "execution_count": 107,
   "metadata": {},
   "outputs": [
    {
     "data": {
      "text/plain": [
       "array([0, 0, 0, 0, 0, 0, 0, 0, 0, 0, 1, 1, 1, 1, 1, 1, 1, 1, 1, 1])"
      ]
     },
     "execution_count": 107,
     "metadata": {},
     "output_type": "execute_result"
    }
   ],
   "source": [
    "actual_test_labels = np.concatenate((np.full(10, 0), np.full(10, 1)), axis=0)\n",
    "actual_test_labels"
   ]
  },
  {
   "cell_type": "code",
   "execution_count": 108,
   "metadata": {},
   "outputs": [
    {
     "data": {
      "text/plain": [
       "0.85"
      ]
     },
     "execution_count": 108,
     "metadata": {},
     "output_type": "execute_result"
    }
   ],
   "source": [
    "from sklearn.metrics import accuracy_score\n",
    "\n",
    "accuracy_score(actual_test_labels, predicted_class_indices)"
   ]
  },
  {
   "cell_type": "code",
   "execution_count": 109,
   "metadata": {},
   "outputs": [
    {
     "data": {
      "text/plain": [
       "array([[8, 2],\n",
       "       [1, 9]])"
      ]
     },
     "execution_count": 109,
     "metadata": {},
     "output_type": "execute_result"
    }
   ],
   "source": [
    "from sklearn.metrics import confusion_matrix\n",
    "\n",
    "confusion_matrix(actual_test_labels, predicted_class_indices)"
   ]
  },
  {
   "cell_type": "code",
   "execution_count": null,
   "metadata": {},
   "outputs": [],
   "source": []
  }
 ],
 "metadata": {
  "kernelspec": {
   "display_name": "Python 3",
   "language": "python",
   "name": "python3"
  },
  "language_info": {
   "codemirror_mode": {
    "name": "ipython",
    "version": 3
   },
   "file_extension": ".py",
   "mimetype": "text/x-python",
   "name": "python",
   "nbconvert_exporter": "python",
   "pygments_lexer": "ipython3",
   "version": "3.7.1"
  }
 },
 "nbformat": 4,
 "nbformat_minor": 2
}
